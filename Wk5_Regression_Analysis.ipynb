{
 "cells": [
  {
   "cell_type": "code",
   "execution_count": 16,
   "id": "91d7ef85-5b4a-4336-85ed-87187a74909e",
   "metadata": {
    "jupyter": {
     "source_hidden": true
    },
    "tags": []
   },
   "outputs": [
    {
     "data": {
      "text/html": [
       "<script>\n",
       "code_show=true; \n",
       "function code_toggle() {\n",
       " if (code_show){\n",
       " $('div.input').hide();\n",
       " } else {\n",
       " $('div.input').show();\n",
       " }\n",
       " code_show = !code_show\n",
       "} \n",
       "$( document ).ready(code_toggle);\n",
       "</script>\n",
       "<form action=\"javascript:code_toggle()\"><input type=\"submit\" value=\"Click here to toggle on/off the raw code.\"></form>"
      ],
      "text/plain": [
       "<IPython.core.display.HTML object>"
      ]
     },
     "execution_count": 16,
     "metadata": {},
     "output_type": "execute_result"
    }
   ],
   "source": [
    "from IPython.display import HTML\n",
    "\n",
    "HTML('''<script>\n",
    "code_show=true; \n",
    "function code_toggle() {\n",
    " if (code_show){\n",
    " $('div.input').hide();\n",
    " } else {\n",
    " $('div.input').show();\n",
    " }\n",
    " code_show = !code_show\n",
    "} \n",
    "$( document ).ready(code_toggle);\n",
    "</script>\n",
    "<form action=\"javascript:code_toggle()\"><input type=\"submit\" value=\"Click here to toggle on/off the raw code.\"></form>''')"
   ]
  },
  {
   "cell_type": "code",
   "execution_count": 43,
   "id": "fc3542f8-4a0c-4582-8b75-e6c3171ecc9f",
   "metadata": {
    "collapsed": true,
    "jupyter": {
     "outputs_hidden": true,
     "source_hidden": true
    },
    "tags": []
   },
   "outputs": [
    {
     "name": "stdout",
     "output_type": "stream",
     "text": [
      "Requirement already satisfied: numpy in c:\\users\\dongy\\anaconda3\\lib\\site-packages (1.23.5)\n",
      "Requirement already satisfied: pandas in c:\\users\\dongy\\anaconda3\\lib\\site-packages (1.5.3)\n",
      "Requirement already satisfied: python-dateutil>=2.8.1 in c:\\users\\dongy\\anaconda3\\lib\\site-packages (from pandas) (2.8.2)\n",
      "Requirement already satisfied: pytz>=2020.1 in c:\\users\\dongy\\anaconda3\\lib\\site-packages (from pandas) (2022.7.1)\n",
      "Requirement already satisfied: numpy>=1.20.3 in c:\\users\\dongy\\anaconda3\\lib\\site-packages (from pandas) (1.23.5)\n",
      "Requirement already satisfied: six>=1.5 in c:\\users\\dongy\\anaconda3\\lib\\site-packages (from python-dateutil>=2.8.1->pandas) (1.16.0)\n",
      "Requirement already satisfied: matplotlib in c:\\users\\dongy\\anaconda3\\lib\\site-packages (3.6.3)\n",
      "Requirement already satisfied: pillow>=6.2.0 in c:\\users\\dongy\\anaconda3\\lib\\site-packages (from matplotlib) (8.3.1)\n",
      "Requirement already satisfied: pyparsing>=2.2.1 in c:\\users\\dongy\\anaconda3\\lib\\site-packages (from matplotlib) (2.4.7)\n",
      "Requirement already satisfied: contourpy>=1.0.1 in c:\\users\\dongy\\anaconda3\\lib\\site-packages (from matplotlib) (1.0.7)\n",
      "Requirement already satisfied: kiwisolver>=1.0.1 in c:\\users\\dongy\\anaconda3\\lib\\site-packages (from matplotlib) (1.3.1)\n",
      "Requirement already satisfied: packaging>=20.0 in c:\\users\\dongy\\anaconda3\\lib\\site-packages (from matplotlib) (21.0)\n",
      "Requirement already satisfied: numpy>=1.19 in c:\\users\\dongy\\anaconda3\\lib\\site-packages (from matplotlib) (1.23.5)\n",
      "Requirement already satisfied: fonttools>=4.22.0 in c:\\users\\dongy\\anaconda3\\lib\\site-packages (from matplotlib) (4.25.0)\n",
      "Requirement already satisfied: python-dateutil>=2.7 in c:\\users\\dongy\\anaconda3\\lib\\site-packages (from matplotlib) (2.8.2)\n",
      "Requirement already satisfied: cycler>=0.10 in c:\\users\\dongy\\anaconda3\\lib\\site-packages (from matplotlib) (0.10.0)\n",
      "Requirement already satisfied: six in c:\\users\\dongy\\anaconda3\\lib\\site-packages (from cycler>=0.10->matplotlib) (1.16.0)\n",
      "Collecting sklearn\n",
      "  Downloading sklearn-0.0.post1.tar.gz (3.6 kB)\n",
      "Building wheels for collected packages: sklearn\n",
      "  Building wheel for sklearn (setup.py): started\n",
      "  Building wheel for sklearn (setup.py): finished with status 'done'\n",
      "  Created wheel for sklearn: filename=sklearn-0.0.post1-py3-none-any.whl size=2344 sha256=5ee0661f181c4db8bef85bf823c0d724a1d52338e99df8980178fcd5db854650\n",
      "  Stored in directory: c:\\users\\dongy\\appdata\\local\\pip\\cache\\wheels\\14\\25\\f7\\1cc0956978ae479e75140219088deb7a36f60459df242b1a72\n",
      "Successfully built sklearn\n",
      "Installing collected packages: sklearn\n",
      "Successfully installed sklearn-0.0.post1\n",
      "Requirement already satisfied: keras in c:\\users\\dongy\\anaconda3\\lib\\site-packages (2.11.0)\n",
      "Requirement already satisfied: tensorflow in c:\\users\\dongy\\anaconda3\\lib\\site-packages (2.11.0)\n",
      "Requirement already satisfied: tensorflow-intel==2.11.0 in c:\\users\\dongy\\anaconda3\\lib\\site-packages (from tensorflow) (2.11.0)\n",
      "Requirement already satisfied: keras<2.12,>=2.11.0 in c:\\users\\dongy\\anaconda3\\lib\\site-packages (from tensorflow-intel==2.11.0->tensorflow) (2.11.0)\n",
      "Requirement already satisfied: packaging in c:\\users\\dongy\\anaconda3\\lib\\site-packages (from tensorflow-intel==2.11.0->tensorflow) (21.0)\n",
      "Requirement already satisfied: setuptools in c:\\users\\dongy\\anaconda3\\lib\\site-packages (from tensorflow-intel==2.11.0->tensorflow) (52.0.0.post20210125)\n",
      "Requirement already satisfied: flatbuffers>=2.0 in c:\\users\\dongy\\anaconda3\\lib\\site-packages (from tensorflow-intel==2.11.0->tensorflow) (23.1.21)\n",
      "Requirement already satisfied: h5py>=2.9.0 in c:\\users\\dongy\\anaconda3\\lib\\site-packages (from tensorflow-intel==2.11.0->tensorflow) (2.10.0)\n",
      "Requirement already satisfied: opt-einsum>=2.3.2 in c:\\users\\dongy\\anaconda3\\lib\\site-packages (from tensorflow-intel==2.11.0->tensorflow) (3.3.0)\n",
      "Requirement already satisfied: google-pasta>=0.1.1 in c:\\users\\dongy\\anaconda3\\lib\\site-packages (from tensorflow-intel==2.11.0->tensorflow) (0.2.0)\n",
      "Requirement already satisfied: protobuf<3.20,>=3.9.2 in c:\\users\\dongy\\anaconda3\\lib\\site-packages (from tensorflow-intel==2.11.0->tensorflow) (3.19.6)\n",
      "Requirement already satisfied: wrapt>=1.11.0 in c:\\users\\dongy\\anaconda3\\lib\\site-packages (from tensorflow-intel==2.11.0->tensorflow) (1.12.1)\n",
      "Requirement already satisfied: six>=1.12.0 in c:\\users\\dongy\\anaconda3\\lib\\site-packages (from tensorflow-intel==2.11.0->tensorflow) (1.16.0)\n",
      "Requirement already satisfied: numpy>=1.20 in c:\\users\\dongy\\anaconda3\\lib\\site-packages (from tensorflow-intel==2.11.0->tensorflow) (1.23.5)\n",
      "Requirement already satisfied: tensorboard<2.12,>=2.11 in c:\\users\\dongy\\anaconda3\\lib\\site-packages (from tensorflow-intel==2.11.0->tensorflow) (2.11.2)\n",
      "Requirement already satisfied: grpcio<2.0,>=1.24.3 in c:\\users\\dongy\\anaconda3\\lib\\site-packages (from tensorflow-intel==2.11.0->tensorflow) (1.51.1)\n",
      "Requirement already satisfied: gast<=0.4.0,>=0.2.1 in c:\\users\\dongy\\anaconda3\\lib\\site-packages (from tensorflow-intel==2.11.0->tensorflow) (0.4.0)\n",
      "Requirement already satisfied: tensorflow-estimator<2.12,>=2.11.0 in c:\\users\\dongy\\anaconda3\\lib\\site-packages (from tensorflow-intel==2.11.0->tensorflow) (2.11.0)\n",
      "Requirement already satisfied: tensorflow-io-gcs-filesystem>=0.23.1 in c:\\users\\dongy\\anaconda3\\lib\\site-packages (from tensorflow-intel==2.11.0->tensorflow) (0.30.0)\n",
      "Requirement already satisfied: libclang>=13.0.0 in c:\\users\\dongy\\anaconda3\\lib\\site-packages (from tensorflow-intel==2.11.0->tensorflow) (15.0.6.1)\n",
      "Requirement already satisfied: termcolor>=1.1.0 in c:\\users\\dongy\\anaconda3\\lib\\site-packages (from tensorflow-intel==2.11.0->tensorflow) (2.2.0)\n",
      "Requirement already satisfied: typing-extensions>=3.6.6 in c:\\users\\dongy\\anaconda3\\lib\\site-packages (from tensorflow-intel==2.11.0->tensorflow) (3.10.0.0)\n",
      "Requirement already satisfied: absl-py>=1.0.0 in c:\\users\\dongy\\anaconda3\\lib\\site-packages (from tensorflow-intel==2.11.0->tensorflow) (1.4.0)\n",
      "Requirement already satisfied: astunparse>=1.6.0 in c:\\users\\dongy\\anaconda3\\lib\\site-packages (from tensorflow-intel==2.11.0->tensorflow) (1.6.3)\n",
      "Requirement already satisfied: wheel<1.0,>=0.23.0 in c:\\users\\dongy\\anaconda3\\lib\\site-packages (from astunparse>=1.6.0->tensorflow-intel==2.11.0->tensorflow) (0.37.0)\n",
      "Requirement already satisfied: tensorboard-data-server<0.7.0,>=0.6.0 in c:\\users\\dongy\\anaconda3\\lib\\site-packages (from tensorboard<2.12,>=2.11->tensorflow-intel==2.11.0->tensorflow) (0.6.1)\n",
      "Requirement already satisfied: werkzeug>=1.0.1 in c:\\users\\dongy\\anaconda3\\lib\\site-packages (from tensorboard<2.12,>=2.11->tensorflow-intel==2.11.0->tensorflow) (1.0.1)\n",
      "Requirement already satisfied: requests<3,>=2.21.0 in c:\\users\\dongy\\anaconda3\\lib\\site-packages (from tensorboard<2.12,>=2.11->tensorflow-intel==2.11.0->tensorflow) (2.26.0)\n",
      "Requirement already satisfied: tensorboard-plugin-wit>=1.6.0 in c:\\users\\dongy\\anaconda3\\lib\\site-packages (from tensorboard<2.12,>=2.11->tensorflow-intel==2.11.0->tensorflow) (1.8.1)\n",
      "Requirement already satisfied: google-auth<3,>=1.6.3 in c:\\users\\dongy\\anaconda3\\lib\\site-packages (from tensorboard<2.12,>=2.11->tensorflow-intel==2.11.0->tensorflow) (2.16.0)\n",
      "Requirement already satisfied: google-auth-oauthlib<0.5,>=0.4.1 in c:\\users\\dongy\\anaconda3\\lib\\site-packages (from tensorboard<2.12,>=2.11->tensorflow-intel==2.11.0->tensorflow) (0.4.6)\n",
      "Requirement already satisfied: markdown>=2.6.8 in c:\\users\\dongy\\anaconda3\\lib\\site-packages (from tensorboard<2.12,>=2.11->tensorflow-intel==2.11.0->tensorflow) (3.4.1)\n",
      "Requirement already satisfied: pyasn1-modules>=0.2.1 in c:\\users\\dongy\\anaconda3\\lib\\site-packages (from google-auth<3,>=1.6.3->tensorboard<2.12,>=2.11->tensorflow-intel==2.11.0->tensorflow) (0.2.8)\n",
      "Requirement already satisfied: cachetools<6.0,>=2.0.0 in c:\\users\\dongy\\anaconda3\\lib\\site-packages (from google-auth<3,>=1.6.3->tensorboard<2.12,>=2.11->tensorflow-intel==2.11.0->tensorflow) (5.3.0)\n",
      "Requirement already satisfied: rsa<5,>=3.1.4 in c:\\users\\dongy\\anaconda3\\lib\\site-packages (from google-auth<3,>=1.6.3->tensorboard<2.12,>=2.11->tensorflow-intel==2.11.0->tensorflow) (4.9)\n",
      "Requirement already satisfied: requests-oauthlib>=0.7.0 in c:\\users\\dongy\\anaconda3\\lib\\site-packages (from google-auth-oauthlib<0.5,>=0.4.1->tensorboard<2.12,>=2.11->tensorflow-intel==2.11.0->tensorflow) (1.3.1)\n",
      "Requirement already satisfied: importlib-metadata>=4.4 in c:\\users\\dongy\\anaconda3\\lib\\site-packages (from markdown>=2.6.8->tensorboard<2.12,>=2.11->tensorflow-intel==2.11.0->tensorflow) (4.6.4)\n",
      "Requirement already satisfied: zipp>=0.5 in c:\\users\\dongy\\anaconda3\\lib\\site-packages (from importlib-metadata>=4.4->markdown>=2.6.8->tensorboard<2.12,>=2.11->tensorflow-intel==2.11.0->tensorflow) (3.5.0)\n",
      "Requirement already satisfied: pyasn1<0.5.0,>=0.4.6 in c:\\users\\dongy\\anaconda3\\lib\\site-packages (from pyasn1-modules>=0.2.1->google-auth<3,>=1.6.3->tensorboard<2.12,>=2.11->tensorflow-intel==2.11.0->tensorflow) (0.4.8)\n",
      "Requirement already satisfied: idna<4,>=2.5 in c:\\users\\dongy\\anaconda3\\lib\\site-packages (from requests<3,>=2.21.0->tensorboard<2.12,>=2.11->tensorflow-intel==2.11.0->tensorflow) (3.2)\n",
      "Requirement already satisfied: urllib3<1.27,>=1.21.1 in c:\\users\\dongy\\anaconda3\\lib\\site-packages (from requests<3,>=2.21.0->tensorboard<2.12,>=2.11->tensorflow-intel==2.11.0->tensorflow) (1.26.6)\n",
      "Requirement already satisfied: certifi>=2017.4.17 in c:\\users\\dongy\\anaconda3\\lib\\site-packages (from requests<3,>=2.21.0->tensorboard<2.12,>=2.11->tensorflow-intel==2.11.0->tensorflow) (2022.12.7)\n",
      "Requirement already satisfied: charset-normalizer~=2.0.0 in c:\\users\\dongy\\anaconda3\\lib\\site-packages (from requests<3,>=2.21.0->tensorboard<2.12,>=2.11->tensorflow-intel==2.11.0->tensorflow) (2.0.4)\n",
      "Requirement already satisfied: oauthlib>=3.0.0 in c:\\users\\dongy\\anaconda3\\lib\\site-packages (from requests-oauthlib>=0.7.0->google-auth-oauthlib<0.5,>=0.4.1->tensorboard<2.12,>=2.11->tensorflow-intel==2.11.0->tensorflow) (3.2.2)\n",
      "Requirement already satisfied: pyparsing>=2.0.2 in c:\\users\\dongy\\anaconda3\\lib\\site-packages (from packaging->tensorflow-intel==2.11.0->tensorflow) (2.4.7)\n"
     ]
    }
   ],
   "source": [
    "!pip install numpy\n",
    "!pip install pandas\n",
    "!pip install matplotlib\n",
    "!pip install sklearn\n",
    "!pip install keras\n",
    "!pip install tensorflow"
   ]
  },
  {
   "cell_type": "markdown",
   "id": "c83dfdc0-199c-44e0-98f6-ff4ec4ea7050",
   "metadata": {},
   "source": [
    "# Regression Analysis with Python"
   ]
  },
  {
   "cell_type": "markdown",
   "id": "8598326f-aee6-47d2-ad0c-8970d02ee9e0",
   "metadata": {},
   "source": [
    "Regression analysis is a statistical method for modeling the relationship between a dependent variable (also known as the response variable) and one or more independent variables (also known as predictors). \n",
    "\n",
    "The goal of regression analysis is to fit a model to the data that accurately captures the relationship between the variables, so that we can make predictions about the response variable based on the values of the predictors."
   ]
  },
  {
   "cell_type": "markdown",
   "id": "9e7d8d62-72e8-47b3-ad1b-262a8fbcc0d4",
   "metadata": {},
   "source": [
    "Python has several popular libraries for performing regression analysis, including scikit-learn, statsmodels, and seaborn. "
   ]
  },
  {
   "cell_type": "code",
   "execution_count": 19,
   "id": "9f5f469a-09eb-46e1-8c0f-6177ad0764ee",
   "metadata": {
    "jupyter": {
     "source_hidden": true
    },
    "tags": []
   },
   "outputs": [
    {
     "data": {
      "image/jpeg": "[encoded data removed]",
      "text/html": [
       "\n",
       "        <iframe\n",
       "            width=\"400\"\n",
       "            height=\"300\"\n",
       "            src=\"https://www.youtube.com/embed/zPG4NjIkCjc\"\n",
       "            frameborder=\"0\"\n",
       "            allowfullscreen\n",
       "        ></iframe>\n",
       "        "
      ],
      "text/plain": [
       "<IPython.lib.display.YouTubeVideo at 0x1d3435b0e50>"
      ]
     },
     "metadata": {},
     "output_type": "display_data"
    }
   ],
   "source": [
    "from IPython.display import YouTubeVideo\n",
    "regression = YouTubeVideo(\"zPG4NjIkCjc\")\n",
    "display(regression)"
   ]
  },
  {
   "cell_type": "markdown",
   "id": "e2b17c93-88b4-42f9-9acc-1109836021f7",
   "metadata": {},
   "source": [
    "## More Statistics"
   ]
  },
  {
   "cell_type": "markdown",
   "id": "b71c3f8c-2bd7-4022-85a7-6128ab7f235c",
   "metadata": {},
   "source": [
    "There are two types of regression analysis: linear regression and non-linear regression. Linear regression models the relationship between the dependent and independent variables as a linear equation. It assumes that the relationship is a straight line, and it tries to fit the line to the data points as closely as possible.\n",
    "\n",
    "Non-linear regression models the relationship between the dependent and independent variables as a non-linear equation. It allows for more complex relationships between the variables and can handle cases where the relationship is not a straight line.\n",
    "\n",
    "In either case, the goal of regression analysis is to find the best-fitting line or equation that represents the relationship between the dependent and independent variables. This equation can then be used to make predictions about the value of the dependent variable based on the values of the independent variables."
   ]
  },
  {
   "cell_type": "markdown",
   "id": "6a515c58-bbe3-4356-bd91-8c028c62e582",
   "metadata": {},
   "source": [
    "## Simple Linear Regression"
   ]
  },
  {
   "cell_type": "markdown",
   "id": "e940adc8-6c66-480b-ab6f-67077f9f640c",
   "metadata": {},
   "source": [
    "### Case Study 1 (Study Hours Vs Grades)"
   ]
  },
  {
   "cell_type": "markdown",
   "id": "f589a914-df28-42c7-acc7-e63adff623d6",
   "metadata": {},
   "source": [
    "Consider a dataset that contains the number of hours studied and the corresponding exam scores for a group of students. We would like to model the relationship between the number of hours studied and exam scores using a simple linear regression model."
   ]
  },
  {
   "cell_type": "code",
   "execution_count": 20,
   "id": "7192b8b7-3c73-4a14-8f9d-661d655449d0",
   "metadata": {
    "jupyter": {
     "source_hidden": true
    },
    "tags": []
   },
   "outputs": [
    {
     "name": "stderr",
     "output_type": "stream",
     "text": [
      "C:\\Users\\DONGY\\Anaconda3\\lib\\site-packages\\scipy\\__init__.py:146: UserWarning: A NumPy version >=1.16.5 and <1.23.0 is required for this version of SciPy (detected version 1.23.5\n",
      "  warnings.warn(f\"A NumPy version >={np_minversion} and <{np_maxversion}\"\n"
     ]
    },
    {
     "name": "stdout",
     "output_type": "stream",
     "text": [
      "Intercept: 77.1\n",
      "Coefficient: [1.75]\n"
     ]
    },
    {
     "data": {
      "image/png": "[encoded data removed]",
      "text/plain": [
       "<Figure size 432x288 with 1 Axes>"
      ]
     },
     "metadata": {
      "needs_background": "light"
     },
     "output_type": "display_data"
    }
   ],
   "source": [
    "import pandas as pd\n",
    "import numpy as np\n",
    "from sklearn.linear_model import LinearRegression\n",
    "\n",
    "# Load the data into a pandas DataFrame\n",
    "data = {'hours': [2, 4, 6, 8, 10], 'scores': [80, 85, 88, 90, 95]}\n",
    "df = pd.DataFrame(data)\n",
    "\n",
    "# Define the independent variable (hours) and the dependent variable (scores)\n",
    "X = df[['hours']]\n",
    "y = df['scores']\n",
    "\n",
    "# Create a LinearRegression object\n",
    "model = LinearRegression()\n",
    "\n",
    "# Fit the model to the data\n",
    "model.fit(X, y)\n",
    "\n",
    "# Make predictions using the model\n",
    "y_pred = model.predict(X)\n",
    "\n",
    "# Print the intercept and coefficient of the model\n",
    "print('Intercept:', model.intercept_)\n",
    "print('Coefficient:', model.coef_)\n",
    "\n",
    "\n",
    "# Plot the original data and the regression line on a scatter plot\n",
    "plt.scatter(X, y, color='blue')\n",
    "plt.plot(X, y_pred, color='red')\n",
    "plt.xlabel('Number of Hours')\n",
    "plt.ylabel('Grades')\n",
    "plt.title('Number of Study Hours vs Grades')\n",
    "plt.show()"
   ]
  },
  {
   "cell_type": "code",
   "execution_count": 21,
   "id": "e55a5320-f69e-4eb1-a761-1f580cfdb80a",
   "metadata": {
    "jupyter": {
     "source_hidden": true
    }
   },
   "outputs": [
    {
     "data": {
      "image/jpeg": "[encoded data removed]",
      "text/html": [
       "\n",
       "        <iframe\n",
       "            width=\"400\"\n",
       "            height=\"300\"\n",
       "            src=\"https://www.youtube.com/embed/B-JngHp3lLg\"\n",
       "            frameborder=\"0\"\n",
       "            allowfullscreen\n",
       "        ></iframe>\n",
       "        "
      ],
      "text/plain": [
       "<IPython.lib.display.YouTubeVideo at 0x1d34072d1f0>"
      ]
     },
     "metadata": {},
     "output_type": "display_data"
    }
   ],
   "source": [
    "co = YouTubeVideo(\"B-JngHp3lLg\")\n",
    "display(co)"
   ]
  },
  {
   "cell_type": "markdown",
   "id": "620a32c6-75b9-4d13-b343-75ebfd01c5d0",
   "metadata": {},
   "source": [
    "### Case Study 2 (No of Rooms vs Housing Price)"
   ]
  },
  {
   "cell_type": "markdown",
   "id": "c963a32d-d370-4ea5-bf90-e55f0bcec2b6",
   "metadata": {},
   "source": [
    "Given a dataset that contains the number of rooms in a house and the corresponding housing prices, use scikit-learn to perform simple linear regression analysis to model the relationship between the number of rooms and housing prices.\n",
    "\n",
    "    Load the data into a pandas DataFrame.\n",
    "    Define the independent variable (number of rooms) and the dependent variable (housing prices).\n",
    "    Create a LinearRegression object.\n",
    "    Fit the model to the data.\n",
    "    Make predictions using the model.\n",
    "    Print the intercept and coefficient of the model.\n",
    "    Plot the original data and the regression line on a scatter plot."
   ]
  },
  {
   "cell_type": "code",
   "execution_count": 22,
   "id": "cd50e99d-0071-47c2-8295-aa5bc38b16d5",
   "metadata": {
    "jupyter": {
     "source_hidden": true
    }
   },
   "outputs": [
    {
     "name": "stdout",
     "output_type": "stream",
     "text": [
      "Intercept: -5.684341886080802e-14\n",
      "Coefficient: [50.]\n"
     ]
    },
    {
     "data": {
      "image/png": "[encoded data removed]",
      "text/plain": [
       "<Figure size 432x288 with 1 Axes>"
      ]
     },
     "metadata": {
      "needs_background": "light"
     },
     "output_type": "display_data"
    }
   ],
   "source": [
    "import pandas as pd\n",
    "import numpy as np\n",
    "import matplotlib.pyplot as plt\n",
    "from sklearn.linear_model import LinearRegression\n",
    "\n",
    "# Load the data into a pandas DataFrame\n",
    "data = {'rooms': [2, 3, 4, 5, 6], 'prices': [100, 150, 200, 250, 300]}\n",
    "df = pd.DataFrame(data)\n",
    "\n",
    "# Define the independent variable (rooms) and the dependent variable (prices)\n",
    "X = df[['rooms']]\n",
    "y = df['prices']\n",
    "\n",
    "# Create a LinearRegression object\n",
    "model = LinearRegression()\n",
    "\n",
    "# Fit the model to the data\n",
    "model.fit(X, y)\n",
    "\n",
    "# Make predictions using the model\n",
    "y_pred = model.predict(X)\n",
    "\n",
    "# Print the intercept and coefficient of the model\n",
    "print('Intercept:', model.intercept_)\n",
    "print('Coefficient:', model.coef_)\n",
    "\n",
    "# Plot the original data and the regression line on a scatter plot\n",
    "plt.scatter(X, y, color='blue')\n",
    "plt.plot(X, y_pred, color='red')\n",
    "plt.xlabel('Number of Rooms')\n",
    "plt.ylabel('Housing Prices')\n",
    "plt.title('Housing Prices vs Number of Rooms')\n",
    "plt.show()"
   ]
  },
  {
   "cell_type": "markdown",
   "id": "38574917-22d9-439b-8f48-1beffef6384e",
   "metadata": {},
   "source": [
    "## Ploynomial Regression"
   ]
  },
  {
   "cell_type": "markdown",
   "id": "327d2b3d-5b5b-4232-947a-141424f83a3a",
   "metadata": {},
   "source": [
    "### Modified Case Study 1 - v2"
   ]
  },
  {
   "cell_type": "code",
   "execution_count": 23,
   "id": "eff316e0-f15c-40b7-8e87-e08504322470",
   "metadata": {
    "jupyter": {
     "source_hidden": true
    }
   },
   "outputs": [
    {
     "data": {
      "image/png": "[encoded data removed]",
      "text/plain": [
       "<Figure size 432x288 with 1 Axes>"
      ]
     },
     "metadata": {
      "needs_background": "light"
     },
     "output_type": "display_data"
    }
   ],
   "source": [
    "import pandas as pd\n",
    "import numpy as np\n",
    "import matplotlib.pyplot as plt\n",
    "from sklearn.preprocessing import PolynomialFeatures\n",
    "from sklearn.linear_model import LinearRegression\n",
    "\n",
    "# Load the data into a pandas DataFrame\n",
    "data = {'hours_studied': [0, 1, 2, 3, 4, 5, 6, 7, 8, 9], 'test_score': [30, 40, 45, 50, 55, 60, 65, 70, 80, 90]}\n",
    "df = pd.DataFrame(data)\n",
    "\n",
    "# Define the independent variable (hours_studied) and the dependent variable (test_score)\n",
    "X = df[['hours_studied']]\n",
    "y = df['test_score']\n",
    "\n",
    "# Generate polynomial features for the independent variable\n",
    "poly = PolynomialFeatures(degree=2)\n",
    "X_poly = poly.fit_transform(X)\n",
    "\n",
    "# Create a LinearRegression object\n",
    "model = LinearRegression()\n",
    "\n",
    "# Fit the model to the polynomial features\n",
    "model.fit(X_poly, y)\n",
    "\n",
    "# Make predictions using the model\n",
    "y_pred = model.predict(X_poly)\n",
    "\n",
    "# Plot the original data and the regression line on a scatter plot\n",
    "plt.scatter(X, y, color='blue')\n",
    "plt.plot(X, y_pred, color='red')\n",
    "plt.xlabel('Hours Studied')\n",
    "plt.ylabel('Test Score')\n",
    "plt.title('Test Score vs Hours Studied')\n",
    "plt.show()"
   ]
  },
  {
   "cell_type": "markdown",
   "id": "50410092-6e94-48d4-a0e8-ddb44054f231",
   "metadata": {},
   "source": [
    "In this example, we used polynomial regression to model the relationship between hours studied and test scores, with a polynomial of degree 2 (a quadratic equation). The results are shown in the scatter plot, where the red line represents the regression line fit to the data."
   ]
  },
  {
   "cell_type": "markdown",
   "id": "a3af5a6a-2d2f-4bcb-a610-928128cec22c",
   "metadata": {},
   "source": [
    "## Logistic Regression"
   ]
  },
  {
   "cell_type": "code",
   "execution_count": null,
   "id": "7aaa284f-e986-468a-92fa-ea3ce1759bea",
   "metadata": {
    "jupyter": {
     "source_hidden": true
    }
   },
   "outputs": [],
   "source": [
    "import numpy as np\n",
    "import matplotlib.pyplot as plt\n",
    "from sklearn.linear_model import LogisticRegression\n",
    "from sklearn.model_selection import train_test_split\n",
    "from sklearn import metrics\n",
    "\n",
    "# Generate random data\n",
    "np.random.seed(0)\n",
    "X = np.random.randn(100, 2)\n",
    "y = (X[:, 0] + X[:, 1] > 0).astype(int)\n",
    "\n",
    "# Plot the data\n",
    "plt.scatter(X[y == 0, 0], X[y == 0, 1], color='red')\n",
    "plt.scatter(X[y == 1, 0], X[y == 1, 1], color='blue')\n",
    "plt.show()\n",
    "\n",
    "# Split the data into training and test sets\n",
    "X_train, X_test, y_train, y_test = train_test_split(X, y, test_size=0.2, random_state=0)\n",
    "\n",
    "# Train the logistic regression model\n",
    "model = LogisticRegression()\n",
    "model.fit(X_train, y_train)\n",
    "\n",
    "# Predict the target values for the test set\n",
    "y_pred = model.predict(X_test)\n",
    "\n",
    "# Evaluate the model's performance\n",
    "accuracy = metrics.accuracy_score(y_test, y_pred)\n",
    "print(\"Accuracy:\", accuracy)"
   ]
  },
  {
   "cell_type": "markdown",
   "id": "ed82f4e0-7d05-4355-9d53-21c231cfc760",
   "metadata": {},
   "source": [
    "In this example, data is generated using numpy, and it's a simple binary classification problem. The generated data is plotted using matplotlib to show the distribution of the classes. The logistic regression model is then trained, predictions are made on the test set, and the accuracy is calculated using the accuracy_score function from sklearn.metrics."
   ]
  },
  {
   "cell_type": "markdown",
   "id": "5f20cf4d-a62d-4dde-b30a-412c721d7660",
   "metadata": {},
   "source": [
    "## Which Regression Model to Use"
   ]
  },
  {
   "cell_type": "markdown",
   "id": "7fb09c05-6d9c-49ee-a2f9-e766f5f9dda6",
   "metadata": {},
   "source": [
    "Linear Regression, Polynomial Regression, and Logistic Regression are different statistical models used for different types of data and problems:\n",
    "\n",
    "* Linear Regression: Linear Regression is used for continuous dependent variables (i.e., variables that can take any value within a certain range). \n",
    "\n",
    "    It models the relationship between independent and dependent variables by fitting a line to the data. This line represents the predicted value of the dependent variable for a given value of the independent variable.\n",
    "\n",
    "* Polynomial Regression: Polynomial Regression is used when the relationship between the independent and dependent variables is non-linear. \n",
    "\n",
    "    It models the relationship by fitting a polynomial equation to the data. Polynomial regression can capture more complex relationships than linear regression, but it is also more prone to overfitting the data.\n",
    "\n",
    "* Logistic Regression: Logistic Regression is used for binary dependent variables (i.e., variables that can take only two values, such as yes/no, true/false). \n",
    "\n",
    "    It models the probability of the dependent variable taking one of the two values based on the independent variables. Logistic Regression is often used in classification problems, where the goal is to predict the class label of a data point based on its features.\n",
    "\n",
    "In summary, the choice of which model to use depends on the type of dependent variable and the nature of the relationship between independent and dependent variables. \n",
    "\n",
    "Linear Regression is appropriate when the relationship is linear and the dependent variable is continuous, Polynomial Regression when the relationship is non-linear and the dependent variable is continuous, and Logistic Regression when the dependent variable is binary."
   ]
  },
  {
   "cell_type": "markdown",
   "id": "3ac931d1-86d5-4b60-a257-eaa17aac6b1b",
   "metadata": {},
   "source": [
    "### Modified Case Study 1 - v3"
   ]
  },
  {
   "cell_type": "markdown",
   "id": "ec3b513f-1229-4737-8ff5-3b2fb90ee6b6",
   "metadata": {},
   "source": [
    "Consider a data set that contains the amount of time students spend studying and their corresponding test scores. The goal is to predict the test scores based on the amount of time spent studying.\n",
    "\n",
    "    Linear Regression: In this case, we could use linear regression to model the relationship between the amount of time spent studying (independent variable) and the test scores (dependent variable). The line of best fit can be used to make predictions about the test scores for a given amount of time spent studying.\n",
    "\n",
    "    Polynomial Regression: If the relationship between the amount of time spent studying and test scores is non-linear, we could use polynomial regression to model the relationship. A polynomial equation of degree 2 or higher could be fit to the data to capture the non-linear relationship.\n",
    "\n",
    "    Logistic Regression: If we wanted to predict whether a student will pass or fail the test based on the amount of time spent studying, we could use logistic regression. In this case, the dependent variable would be binary (pass/fail) and we would model the probability of passing the test based on the amount of time spent studying."
   ]
  },
  {
   "cell_type": "code",
   "execution_count": 26,
   "id": "d15a4122-6808-4290-ac02-cc26f0ec3008",
   "metadata": {
    "jupyter": {
     "source_hidden": true
    }
   },
   "outputs": [
    {
     "name": "stdout",
     "output_type": "stream",
     "text": [
      "Linear Regression:\n",
      "MSE: 26.372649394590095\n",
      "R^2: 0.956385580254777\n",
      "\n",
      "Polynomial Regression:\n",
      "MSE: 26.27410756635373\n",
      "R^2: 0.9565485462349809\n",
      "\n",
      "Logistic Regression:\n",
      "Accuracy: 0.9285714285714286\n"
     ]
    }
   ],
   "source": [
    "import numpy as np\n",
    "import pandas as pd\n",
    "import matplotlib.pyplot as plt\n",
    "from sklearn.linear_model import LinearRegression\n",
    "from sklearn.preprocessing import PolynomialFeatures\n",
    "from sklearn.linear_model import LogisticRegression\n",
    "from sklearn.metrics import mean_squared_error, r2_score\n",
    "\n",
    "# Load the data\n",
    "data = pd.read_csv(\"https://raw.githubusercontent.com/DATA3960/weeklydemo/main/Wk5_Student_Study_Time_Score.csv\")\n",
    "\n",
    "# Linear Regression\n",
    "X = data[\"Hours\"].values.reshape(-1, 1)\n",
    "y = data[\"Scores\"]\n",
    "reg = LinearRegression().fit(X, y)\n",
    "y_pred = reg.predict(X)\n",
    "mse = mean_squared_error(y, y_pred)\n",
    "r2 = r2_score(y, y_pred)\n",
    "print(\"Linear Regression:\")\n",
    "print(\"MSE:\", mse)\n",
    "print(\"R^2:\", r2)\n",
    "\n",
    "# Polynomial Regression\n",
    "poly = PolynomialFeatures(degree=2)\n",
    "X_poly = poly.fit_transform(X)\n",
    "reg = LinearRegression().fit(X_poly, y)\n",
    "y_pred = reg.predict(X_poly)\n",
    "mse = mean_squared_error(y, y_pred)\n",
    "r2 = r2_score(y, y_pred)\n",
    "print(\"\\nPolynomial Regression:\")\n",
    "print(\"MSE:\", mse)\n",
    "print(\"R^2:\", r2)\n",
    "\n",
    "# Logistic Regression\n",
    "y = data[\"pass_fail\"]\n",
    "reg = LogisticRegression(solver=\"lbfgs\").fit(X, y)\n",
    "y_pred = reg.predict(X)\n",
    "print(\"\\nLogistic Regression:\")\n",
    "print(\"Accuracy:\", reg.score(X, y))\n"
   ]
  },
  {
   "cell_type": "markdown",
   "id": "0834c5d3-6e44-4e5e-a725-6eef3c734e67",
   "metadata": {},
   "source": [
    "This is just a simple example to give you an idea of how to perform regression analysis in Python. In a real-world scenario, you would need to perform further analysis and model selection to ensure that the chosen model fits the data well and can make accurate predictions."
   ]
  },
  {
   "cell_type": "markdown",
   "id": "2fd9cb7d-5e5c-4fa2-a47f-7cf27210f5e5",
   "metadata": {},
   "source": [
    "In each case, it's important to perform exploratory data analysis, visualize the data, and evaluate the fit of the model to ensure that it accurately represents the relationship between the independent and dependent variables."
   ]
  },
  {
   "cell_type": "markdown",
   "id": "bf021206-f8aa-44e6-bd0c-46cee244d35d",
   "metadata": {},
   "source": [
    "## Model Selection"
   ]
  },
  {
   "cell_type": "markdown",
   "id": "4a8f37b4-e4cf-41f0-a130-74c94d5cdfdd",
   "metadata": {},
   "source": [
    "Model selection is an important step in regression analysis to ensure that the chosen model fits the data well and can make accurate predictions. Here are some common methods for model selection:"
   ]
  },
  {
   "cell_type": "markdown",
   "id": "479c1528-3dd9-4f97-bd2b-a5fcf0fe19af",
   "metadata": {},
   "source": [
    "    Train-Test Split: One way to select the best model is to split the data into a training set and a test set. The model is trained on the training set and evaluated on the test set. The model with the lowest test error is selected as the best model."
   ]
  },
  {
   "cell_type": "code",
   "execution_count": null,
   "id": "0e04535b-50fa-4e69-881e-e8c8e3d853a1",
   "metadata": {
    "jupyter": {
     "source_hidden": true
    }
   },
   "outputs": [],
   "source": [
    "from sklearn.model_selection import train_test_split\n",
    "X_train, X_test, y_train, y_test = train_test_split(X, y, test_size=0.2, random_state=42)\n"
   ]
  },
  {
   "cell_type": "markdown",
   "id": "70d2228f-13fb-4897-9c46-d88b57bf647c",
   "metadata": {},
   "source": [
    "    Cross-Validation: Cross-validation is a more sophisticated version of train-test split. The data is divided into k folds, where k is a user-defined number. The model is trained on k-1 folds and evaluated on the remaining fold. This process is repeated k times with each fold serving as the test set once. The average test error across the k folds is used to select the best model."
   ]
  },
  {
   "cell_type": "code",
   "execution_count": null,
   "id": "7f6d36e6-c0dd-48eb-abe6-d77329d1973a",
   "metadata": {
    "jupyter": {
     "source_hidden": true
    }
   },
   "outputs": [],
   "source": [
    "from sklearn.model_selection import cross_val_score\n",
    "from sklearn.linear_model import LinearRegression\n",
    "\n",
    "reg = LinearRegression()\n",
    "scores = cross_val_score(reg, X, y, cv=5)\n"
   ]
  },
  {
   "cell_type": "markdown",
   "id": "8f031e33-cafd-4e9c-9470-c0a60c4a9839",
   "metadata": {},
   "source": [
    "    Regularization: Regularization is a method to prevent overfitting, which occurs when a model fits the training data too well and performs poorly on new data. Regularization adds a penalty term to the loss function that the model optimizes. The magnitude of the penalty term is controlled by a hyperparameter, which can be tuned to select the best model. Common regularization techniques include Lasso and Ridge regression."
   ]
  },
  {
   "cell_type": "code",
   "execution_count": null,
   "id": "d39a51c0-54a4-45a9-b4d9-627fdbb51c18",
   "metadata": {
    "jupyter": {
     "source_hidden": true
    }
   },
   "outputs": [],
   "source": [
    "from sklearn.linear_model import Lasso\n",
    "\n",
    "reg = Lasso(alpha=0.1)\n",
    "reg.fit(X_train, y_train)\n"
   ]
  },
  {
   "cell_type": "markdown",
   "id": "c27254d3-3164-47fb-aabf-356107062e0b",
   "metadata": {},
   "source": [
    "    Model Complexity: Model complexity refers to the number of parameters in a model. A complex model may fit the training data well, but it may also overfit the data. A simple model may not fit the data as well, but it is less likely to overfit. To select the best model, we can plot the training and test errors as a function of the model complexity and choose the model that has a low test error and a low training error."
   ]
  },
  {
   "cell_type": "code",
   "execution_count": 27,
   "id": "3e9b2fd3-7940-49bd-af49-f35bc60aebe4",
   "metadata": {
    "jupyter": {
     "source_hidden": true
    }
   },
   "outputs": [
    {
     "data": {
      "image/png": "[encoded data removed]",
      "text/plain": [
       "<Figure size 432x288 with 1 Axes>"
      ]
     },
     "metadata": {
      "needs_background": "light"
     },
     "output_type": "display_data"
    }
   ],
   "source": [
    "import numpy as np\n",
    "import matplotlib.pyplot as plt\n",
    "from sklearn.linear_model import LogisticRegression\n",
    "from sklearn.model_selection import train_test_split\n",
    "from sklearn import metrics\n",
    "\n",
    "# Generate random data\n",
    "np.random.seed(0)\n",
    "X = np.random.randn(100, 2)\n",
    "y = (X[:, 0] + X[:, 1] > 0).astype(int)\n",
    "\n",
    "# Split the data into training and test sets\n",
    "X_train, X_test, y_train, y_test = train_test_split(X, y, test_size=0.2, random_state=0)\n",
    "\n",
    "# Train logistic regression models with different values of C\n",
    "C = [0.001, 0.01, 0.1, 1, 10, 100, 1000]\n",
    "accuracies = []\n",
    "for c in C:\n",
    "    model = LogisticRegression(C=c)\n",
    "    model.fit(X_train, y_train)\n",
    "    y_pred = model.predict(X_test)\n",
    "    accuracy = metrics.accuracy_score(y_test, y_pred)\n",
    "    accuracies.append(accuracy)\n",
    "\n",
    "# Plot the relationship between C and accuracy\n",
    "plt.plot(C, accuracies)\n",
    "plt.xscale('log')\n",
    "plt.xlabel('C')\n",
    "plt.ylabel('Accuracy')\n",
    "plt.show()\n"
   ]
  },
  {
   "cell_type": "markdown",
   "id": "11e7949a-2496-4dc2-a2c0-21650603e30e",
   "metadata": {},
   "source": [
    "In this example, data is generated using numpy, and it's a simple binary classification problem. The generated data is split into training and test sets, and logistic regression models are trained with different values of the C parameter. The accuracy of each model is calculated using the accuracy_score function from sklearn.metrics. Finally, the relationship between C and accuracy is plotted using matplotlib to visualize the model complexity."
   ]
  },
  {
   "cell_type": "code",
   "execution_count": 28,
   "id": "5264b9bd-6d8f-43ca-9d2f-ccfce49814ac",
   "metadata": {
    "jupyter": {
     "source_hidden": true
    }
   },
   "outputs": [
    {
     "data": {
      "image/png": "[encoded data removed]",
      "text/plain": [
       "<Figure size 720x576 with 6 Axes>"
      ]
     },
     "metadata": {
      "needs_background": "light"
     },
     "output_type": "display_data"
    }
   ],
   "source": [
    "import numpy as np\n",
    "import matplotlib.pyplot as plt\n",
    "from sklearn.linear_model import Ridge\n",
    "from sklearn.model_selection import train_test_split\n",
    "\n",
    "# Generate random data\n",
    "np.random.seed(0)\n",
    "X = np.linspace(-5, 5, 100).reshape(-1, 1)\n",
    "y = 2 * X + 1 + np.random.randn(100, 1)\n",
    "\n",
    "# Split the data into training and test sets\n",
    "X_train, X_test, y_train, y_test = train_test_split(X, y, test_size=0.2, random_state=0)\n",
    "\n",
    "# Train Ridge regression models with different values of alpha\n",
    "alphas = [0.001, 0.01, 0.1, 1, 10, 100]\n",
    "predictions_train = []\n",
    "predictions_test = []\n",
    "for alpha in alphas:\n",
    "    model = Ridge(alpha=alpha)\n",
    "    model.fit(X_train, y_train)\n",
    "    predictions_train.append(model.predict(X_train))\n",
    "    predictions_test.append(model.predict(X_test))\n",
    "\n",
    "# Plot the predictions for each model\n",
    "plt.figure(figsize=(10, 8))\n",
    "for i in range(len(alphas)):\n",
    "    plt.subplot(2, 3, i + 1)\n",
    "    plt.scatter(X_train, y_train, color='blue')\n",
    "    plt.scatter(X_test, y_test, color='red')\n",
    "    plt.plot(X_train, predictions_train[i], color='blue', linewidth=2)\n",
    "    plt.plot(X_test, predictions_test[i], color='red', linewidth=2)\n",
    "    plt.title(f\"Alpha = {alphas[i]}\")\n",
    "plt.tight_layout()\n",
    "plt.show()\n"
   ]
  },
  {
   "cell_type": "markdown",
   "id": "2709afe8-7229-43f1-857e-f1397e18c6cf",
   "metadata": {},
   "source": [
    "In this example, data is generated using numpy, and it's a simple regression problem with a single input feature. The Ridge regression models are trained with different values of the alpha parameter, which controls the strength of the regularization term. The predictions made by each model on the training and test sets are plotted using matplotlib. The resulting plots show how the model complexity, as controlled by the alpha parameter, impacts the model's ability to fit the training data and generalize to unseen data."
   ]
  },
  {
   "cell_type": "markdown",
   "id": "6946d915-2334-465f-8df7-7dfa6499aa1a",
   "metadata": {},
   "source": [
    "These are just a few examples of model selection technique. The best technique depends on the specific problem and data at hand. In general, it's a good idea to try several different techniques and compare the results to determine the best model."
   ]
  },
  {
   "cell_type": "markdown",
   "id": "1e1978a5-7665-4108-ad3b-ff10747726dd",
   "metadata": {},
   "source": [
    "It's also important to keep in mind the following considerations when selecting a model:\n",
    "\n",
    "    Bias-Variance Tradeoff.\n",
    "\n",
    "    Overfitting. \n",
    "\n",
    "    Outliers.\n",
    "\n",
    "    Feature Selection.\n",
    "\n",
    "In conclusion, model selection is an important step in regression analysis that can significantly impact the model performance. It's important to carefully consider the different techniques and to choose the best model based on the specific problem and data at hand."
   ]
  },
  {
   "cell_type": "markdown",
   "id": "181d969a-1d77-4989-a3d4-67f81ffa4df6",
   "metadata": {},
   "source": [
    "    The bias-variance tradeoff is a fundamental concept in machine learning that refers to the balance between a model's ability to fit the training data well (low bias) and its ability to generalize to unseen data (low variance). A model with high bias may underfit the training data and have poor predictive accuracy, while a model with high variance may overfit the training data and have poor generalization performance."
   ]
  },
  {
   "cell_type": "markdown",
   "id": "42f52227-59bf-419a-aa45-f2cafbfe73f1",
   "metadata": {},
   "source": [
    "Here's an example in Python that demonstrates the bias-variance tradeoff in a polynomial regression problem:"
   ]
  },
  {
   "cell_type": "code",
   "execution_count": 29,
   "id": "05856fec-32d2-4f32-a6d6-a6d02d5a7a00",
   "metadata": {
    "jupyter": {
     "source_hidden": true
    }
   },
   "outputs": [
    {
     "data": {
      "image/png": "[encoded data removed]",
      "text/plain": [
       "<Figure size 720x576 with 1 Axes>"
      ]
     },
     "metadata": {
      "needs_background": "light"
     },
     "output_type": "display_data"
    }
   ],
   "source": [
    "import numpy as np\n",
    "import matplotlib.pyplot as plt\n",
    "from sklearn.preprocessing import PolynomialFeatures\n",
    "from sklearn.linear_model import LinearRegression\n",
    "from sklearn.model_selection import train_test_split\n",
    "\n",
    "# Generate random data\n",
    "np.random.seed(0)\n",
    "X = np.sort(5 * np.random.rand(80, 1), axis=0)\n",
    "y = np.sin(X).ravel() + np.random.randn(80) * 0.1\n",
    "\n",
    "# Split the data into training and test sets\n",
    "X_train, X_test, y_train, y_test = train_test_split(X, y, test_size=0.2, random_state=0)\n",
    "\n",
    "# Train linear regression models with different polynomial features\n",
    "degrees = [1, 2, 5, 10]\n",
    "train_errors = []\n",
    "test_errors = []\n",
    "for degree in degrees:\n",
    "    poly = PolynomialFeatures(degree=degree)\n",
    "    X_poly_train = poly.fit_transform(X_train)\n",
    "    X_poly_test = poly.fit_transform(X_test)\n",
    "    model = LinearRegression()\n",
    "    model.fit(X_poly_train, y_train)\n",
    "    y_train_pred = model.predict(X_poly_train)\n",
    "    y_test_pred = model.predict(X_poly_test)\n",
    "    train_error = np.mean((y_train - y_train_pred) ** 2)\n",
    "    test_error = np.mean((y_test - y_test_pred) ** 2)\n",
    "    train_errors.append(train_error)\n",
    "    test_errors.append(test_error)\n",
    "\n",
    "# Plot the training and test errors for each degree\n",
    "plt.figure(figsize=(10, 8))\n",
    "plt.plot(degrees, train_errors, color='blue', label='Training Error')\n",
    "plt.plot(degrees, test_errors, color='red', label='Test Error')\n",
    "plt.xlabel('Degree of Polynomial')\n",
    "plt.ylabel('Mean Squared Error')\n",
    "plt.legend()\n",
    "plt.show()\n"
   ]
  },
  {
   "cell_type": "markdown",
   "id": "326e23a2-11b2-44ce-9b87-dcc355e8d8bf",
   "metadata": {},
   "source": [
    "In this example, polynomial features are generated using PolynomialFeatures from scikit-learn and linear regression models are trained using LinearRegression. The training and test errors are calculated for each degree of polynomial and plotted using matplotlib. The resulting plot shows that as the degree of polynomial increases, the training error decreases but the test error increases, demonstrating the bias-variance tradeoff."
   ]
  },
  {
   "cell_type": "markdown",
   "id": "becc815a-862e-4c20-9b12-51a99df93111",
   "metadata": {},
   "source": [
    "    Overfitting is a common issue in machine learning where a model fits the training data too well and performs poorly on unseen data. This occurs when a model is too complex or has too many parameters relative to the amount of training data, leading it to memorize the training data instead of learning the underlying patterns."
   ]
  },
  {
   "cell_type": "code",
   "execution_count": 30,
   "id": "cd8589ea-3a3a-4564-a317-3802331d98ff",
   "metadata": {
    "jupyter": {
     "source_hidden": true
    }
   },
   "outputs": [
    {
     "data": {
      "image/png": "[encoded data removed]",
      "text/plain": [
       "<Figure size 720x576 with 1 Axes>"
      ]
     },
     "metadata": {
      "needs_background": "light"
     },
     "output_type": "display_data"
    }
   ],
   "source": [
    "import numpy as np\n",
    "import matplotlib.pyplot as plt\n",
    "from sklearn.preprocessing import PolynomialFeatures\n",
    "from sklearn.linear_model import LinearRegression\n",
    "from sklearn.model_selection import train_test_split\n",
    "\n",
    "# Generate random data\n",
    "np.random.seed(0)\n",
    "X = np.sort(5 * np.random.rand(80, 1), axis=0)\n",
    "y = np.sin(X).ravel() + np.random.randn(80) * 0.1\n",
    "\n",
    "# Split the data into training and test sets\n",
    "X_train, X_test, y_train, y_test = train_test_split(X, y, test_size=0.2, random_state=0)\n",
    "\n",
    "# Train linear regression models with different polynomial features\n",
    "degrees = [1, 3, 10, 20]\n",
    "train_errors = []\n",
    "test_errors = []\n",
    "for degree in degrees:\n",
    "    poly = PolynomialFeatures(degree=degree)\n",
    "    X_poly_train = poly.fit_transform(X_train)\n",
    "    X_poly_test = poly.fit_transform(X_test)\n",
    "    model = LinearRegression()\n",
    "    model.fit(X_poly_train, y_train)\n",
    "    y_train_pred = model.predict(X_poly_train)\n",
    "    y_test_pred = model.predict(X_poly_test)\n",
    "    train_error = np.mean((y_train - y_train_pred) ** 2)\n",
    "    test_error = np.mean((y_test - y_test_pred) ** 2)\n",
    "    train_errors.append(train_error)\n",
    "    test_errors.append(test_error)\n",
    "\n",
    "# Plot the training and test errors for each degree\n",
    "plt.figure(figsize=(10, 8))\n",
    "plt.plot(degrees, train_errors, color='blue', label='Training Error')\n",
    "plt.plot(degrees, test_errors, color='red', label='Test Error')\n",
    "plt.xlabel('Degree of Polynomial')\n",
    "plt.ylabel('Mean Squared Error')\n",
    "plt.legend()\n",
    "plt.show()\n"
   ]
  },
  {
   "cell_type": "markdown",
   "id": "78757da8-e3ac-4ddc-913d-d3c5dcd1c1d8",
   "metadata": {},
   "source": [
    "In this example, polynomial features are generated using PolynomialFeatures from scikit-learn and linear regression models are trained using LinearRegression. The training and test errors are calculated for each degree of polynomial and plotted using matplotlib. The resulting plot shows that as the degree of polynomial increases, the training error decreases but the test error increases, demonstrating overfitting. The model with degree 10 has the lowest test error and represents a good balance between model complexity and performance."
   ]
  },
  {
   "cell_type": "markdown",
   "id": "a8753cc2-9330-42e1-bcd0-3efc642ce512",
   "metadata": {},
   "source": [
    "    Outliers are observations in a dataset that are significantly different from other observations. They can impact the accuracy of statistical models and analysis if not handled properly. There are several ways to detect and handle outliers, including:\n",
    "\n"
   ]
  },
  {
   "cell_type": "markdown",
   "id": "a5dc51f4-abde-41d4-a23f-ed043a361bce",
   "metadata": {},
   "source": [
    "Visual inspection: Plotting the data and looking for observations that lie far from the rest of the data.\n",
    "\n",
    "Statistical methods: Using measures such as z-scores, Mahalanobis distances, or robust statistical measures to identify outliers.\n",
    "\n",
    "Machine learning algorithms: Using algorithms such as clustering or anomaly detection to identify outliers.\n",
    "\n"
   ]
  },
  {
   "cell_type": "markdown",
   "id": "550caa36-5848-4355-84e3-4034012bb24d",
   "metadata": {},
   "source": [
    "Once outliers have been detected, they can be handled in several ways, including:\n",
    "\n",
    "    Removing them: This is the most straightforward approach but can lead to loss of important information if the outliers are genuine observations.\n",
    "    \n",
    "    Transforming them: Outliers can be transformed to be closer to the rest of the data, such as by using a logarithmic or Box-Cox transformation.\n",
    "    \n",
    "    Impute them: Missing values or outliers can be filled in with statistical estimates such as mean or median.\n",
    "    \n",
    "    Building robust models: Robust regression models can be used that are less sensitive to outliers than traditional linear regression models."
   ]
  },
  {
   "cell_type": "code",
   "execution_count": 31,
   "id": "6d917aeb-2295-4abe-aa9a-4b4e523bf31e",
   "metadata": {
    "jupyter": {
     "source_hidden": true
    }
   },
   "outputs": [
    {
     "data": {
      "image/png": "[encoded data removed]",
      "text/plain": [
       "<Figure size 720x576 with 1 Axes>"
      ]
     },
     "metadata": {
      "needs_background": "light"
     },
     "output_type": "display_data"
    },
    {
     "data": {
      "image/png": "[encoded data removed]",
      "text/plain": [
       "<Figure size 720x576 with 1 Axes>"
      ]
     },
     "metadata": {
      "needs_background": "light"
     },
     "output_type": "display_data"
    }
   ],
   "source": [
    "import numpy as np\n",
    "import pandas as pd\n",
    "import matplotlib.pyplot as plt\n",
    "\n",
    "# Generate random data with outliers\n",
    "np.random.seed(0)\n",
    "data = np.random.normal(100, 20, 50)\n",
    "data[10] = 200\n",
    "data[20] = 150\n",
    "\n",
    "# Detect outliers using the z-score method\n",
    "z_score = (data - np.mean(data)) / np.std(data)\n",
    "outliers = np.where(np.abs(z_score) > 3)\n",
    "\n",
    "# Plot the data with outliers highlighted\n",
    "plt.figure(figsize=(10, 8))\n",
    "plt.scatter(range(len(data)), data, color='blue')\n",
    "plt.scatter(outliers[0], data[outliers[0]], color='red', marker='x', label='Outlier')\n",
    "plt.xlabel('Data Index')\n",
    "plt.ylabel('Value')\n",
    "plt.legend()\n",
    "plt.show()\n",
    "\n",
    "# Remove outliers\n",
    "data = np.delete(data, outliers[0])\n",
    "\n",
    "# Plot the cleaned data\n",
    "plt.figure(figsize=(10, 8))\n",
    "plt.hist(data, bins=20, color='blue')\n",
    "plt.xlabel('Value')\n",
    "plt.ylabel('Frequency')\n",
    "plt.show()\n"
   ]
  },
  {
   "cell_type": "markdown",
   "id": "e9b6b27a-1e92-4f96-bdf5-417c344a47e3",
   "metadata": {},
   "source": [
    "    Feature selection is the process of identifying a subset of relevant and informative features to use in a predictive model, as opposed to using all available features. The goal of feature selection is to improve the interpretability and performance of the model by reducing overfitting, increasing the generalization of the model, and reducing the computational cost.\n",
    "\n"
   ]
  },
  {
   "cell_type": "markdown",
   "id": "a6d73505-2ff2-4b98-bed1-258f6432db5b",
   "metadata": {},
   "source": [
    "There are several approaches to feature selection, including:\n",
    "\n",
    "    Filter methods: Based on simple statistical measures such as correlation, mutual information, or chi-squared test.\n",
    "\n",
    "    Wrapper methods: Based on the performance of a predictive model using a subset of features.\n",
    "\n",
    "    Embedded methods: Based on the feature selection process being part of the learning algorithm, such as Lasso regression."
   ]
  },
  {
   "cell_type": "code",
   "execution_count": 32,
   "id": "7abfa8b7-092f-4af5-83b6-1ad440147919",
   "metadata": {
    "jupyter": {
     "source_hidden": true
    }
   },
   "outputs": [
    {
     "data": {
      "image/png": "[encoded data removed]",
      "text/plain": [
       "<Figure size 432x288 with 1 Axes>"
      ]
     },
     "metadata": {
      "needs_background": "light"
     },
     "output_type": "display_data"
    }
   ],
   "source": [
    "import numpy as np\n",
    "import pandas as pd\n",
    "from sklearn.feature_selection import RFE\n",
    "from sklearn.linear_model import LinearRegression\n",
    "\n",
    "# Load sample data\n",
    "data = pd.read_csv(\"https://raw.githubusercontent.com/Dong2Yo/Dataset/main/Wk5_50_Startups.csv\")\n",
    "X = data.iloc[:, :-1].values\n",
    "y = data.iloc[:, -1].values\n",
    "\n",
    "# Select the best features using RFE\n",
    "reg = LinearRegression()\n",
    "rfe = RFE(reg)\n",
    "X_new = rfe.fit_transform(X, y)\n",
    "\n",
    "# Fit a linear regression model\n",
    "reg.fit(X_new, y)\n",
    "\n",
    "# Plot the results\n",
    "y_hat = reg.predict(X_new)\n",
    "plt.figure()\n",
    "plt.scatter(X_new, y, s=20, edgecolor=\"black\", c=\"darkorange\", label=\"data\")\n",
    "plt.plot(X_new, y_hat, color=\"cornflowerblue\", label=\"prediction\", linewidth=2)\n",
    "plt.xlabel(\"Selected Features\")\n",
    "plt.ylabel(\"Target\")\n",
    "plt.title(\"Linear Regression with Feature Selection\")\n",
    "plt.legend()\n",
    "plt.show()\n",
    "\n"
   ]
  },
  {
   "cell_type": "markdown",
   "id": "4871f322-235b-4624-a5b4-30247500322d",
   "metadata": {},
   "source": [
    "This code uses the RFE (recursive feature elimination) class from the sklearn.feature_selection module to select the best two features for a linear regression model. The selected features are then used to fit the model and the results are plotted, showing how feature selection can be used to improve the performance of regression analysis by selecting the most important features."
   ]
  },
  {
   "cell_type": "markdown",
   "id": "517d9486-26fc-4b42-8e3a-ab4b20641a93",
   "metadata": {},
   "source": [
    "It's also worth mentioning that the choice of model selection technique can have a significant impact on the model performance. It's important to consider the tradeoff between the model performance, model complexity, and overfitting.\n",
    "\n",
    "For example, when using cross-validation, increasing the number of folds can lead to a more robust model, but it also increases the computation time. Similarly, increasing the complexity of the model can lead to overfitting and poor performance on new data.\n",
    "\n",
    "It's important to experiment with different techniques and evaluate their performance on the specific problem and data at hand. It's also a good practice to use multiple techniques and compare their results to choose the best model.\n",
    "\n",
    "In conclusion, model selection is an important step in regression analysis that requires careful consideration and experimentation. The choice of technique will depend on the specific problem and data, and it's important to consider the tradeoff between model performance, model complexity, and overfitting."
   ]
  },
  {
   "cell_type": "markdown",
   "id": "981ad596-7dac-4045-8f64-0ec4e4fc4c2f",
   "metadata": {},
   "source": [
    "## Performance Evaluation"
   ]
  },
  {
   "cell_type": "markdown",
   "id": "f1fb5285-1543-4afd-a788-0c8044c2ba75",
   "metadata": {},
   "source": [
    "Evaluating the performance of a regression model is an important step in the modeling process, as it helps to determine the accuracy of the model's predictions. Here are a few common metrics used to evaluate the performance of regression models:"
   ]
  },
  {
   "cell_type": "markdown",
   "id": "291bb965-35ca-4469-ba51-7a9110f69fb0",
   "metadata": {},
   "source": [
    "1. Mean Squared Error (MSE): This is the average of the squared differences between the predicted values and the actual values. A lower MSE indicates a better fit."
   ]
  },
  {
   "cell_type": "code",
   "execution_count": null,
   "id": "c55bce5d-f2bb-43dd-8f7e-9de001ce507d",
   "metadata": {
    "jupyter": {
     "source_hidden": true
    }
   },
   "outputs": [],
   "source": [
    "from sklearn.metrics import mean_squared_error\n",
    "mse = mean_squared_error(y_test, y_pred)\n"
   ]
  },
  {
   "cell_type": "markdown",
   "id": "caa812b1-05c6-455a-be0f-af84b033cae1",
   "metadata": {},
   "source": [
    "2. Root Mean Squared Error (RMSE): This is the square root of the MSE and is often used because it has the same units as the target variable."
   ]
  },
  {
   "cell_type": "code",
   "execution_count": null,
   "id": "5329574b-87a4-45f8-8693-da3948c2fd04",
   "metadata": {
    "jupyter": {
     "source_hidden": true
    }
   },
   "outputs": [],
   "source": [
    "from math import sqrt\n",
    "rmse = sqrt(mse)\n"
   ]
  },
  {
   "cell_type": "markdown",
   "id": "d6bfc15d-72ca-46f5-ab34-041b39b4c150",
   "metadata": {},
   "source": [
    "3. R-Squared: This is the coefficient of determination and measures the proportion of variance explained by the model. A value of 1 indicates a perfect fit, while a value close to 0 indicates a poor fit."
   ]
  },
  {
   "cell_type": "code",
   "execution_count": null,
   "id": "9c670596-c194-4bb6-afd4-807b0c89861d",
   "metadata": {
    "jupyter": {
     "source_hidden": true
    }
   },
   "outputs": [],
   "source": [
    "from sklearn.metrics import r2_score\n",
    "r2 = r2_score(y_test, y_pred)\n"
   ]
  },
  {
   "cell_type": "markdown",
   "id": "572199de-751c-4e1f-b93c-37edf3e37f5f",
   "metadata": {},
   "source": [
    "4. Mean Absolute Error (MAE): This is the average of the absolute differences between the predicted values and the actual values. A lower MAE indicates a better fit."
   ]
  },
  {
   "cell_type": "code",
   "execution_count": null,
   "id": "b9298620-2985-4217-986c-4ceb6939646b",
   "metadata": {
    "jupyter": {
     "source_hidden": true
    }
   },
   "outputs": [],
   "source": [
    "from sklearn.metrics import mean_absolute_error\n",
    "mae = mean_absolute_error(y_test, y_pred)\n"
   ]
  },
  {
   "cell_type": "markdown",
   "id": "546d9396-7821-48db-9553-941503d0166d",
   "metadata": {},
   "source": [
    "These are just a few examples of the metrics used to evaluate the performance of regression models. The choice of metric will depend on the specific problem and data, and it's important to consider the tradeoff between accuracy, interpretability, and computational complexity.\n",
    "\n",
    "In conclusion, evaluating the performance of a regression model is an important step in the modeling process, and it helps to determine the accuracy of the model's predictions. A variety of metrics can be used, and the choice of metric will depend on the specific problem and data at hand."
   ]
  },
  {
   "cell_type": "markdown",
   "id": "da34c545-27bc-42ab-914f-cd3a1276eb2d",
   "metadata": {},
   "source": [
    "### Case Study 3 (Height vs Weight)"
   ]
  },
  {
   "cell_type": "markdown",
   "id": "19bcbab1-7c24-41dc-b260-db402edf1d69",
   "metadata": {},
   "source": [
    "Let's say we have a dataset containing the height and weight of 1000 people, and we want to build a regression model to predict the weight of a person based on their height."
   ]
  },
  {
   "cell_type": "code",
   "execution_count": 33,
   "id": "cf287b92-805a-4976-b3cd-9732da119bb3",
   "metadata": {
    "jupyter": {
     "source_hidden": true
    }
   },
   "outputs": [
    {
     "name": "stdout",
     "output_type": "stream",
     "text": [
      "Linear Regression Performance:\n",
      "MSE: 1177.0744786603088\n",
      "R2: -0.0024245545776340194\n",
      "MAE: 29.39711317881761\n",
      "Polynomial Regression Performance:\n",
      "MSE: 1176.6751796010817\n",
      "R2: -0.002084502024592094\n",
      "MAE: 29.37831519343607\n"
     ]
    }
   ],
   "source": [
    "import pandas as pd\n",
    "import numpy as np\n",
    "from sklearn.model_selection import train_test_split\n",
    "from sklearn.linear_model import LinearRegression\n",
    "from sklearn.preprocessing import PolynomialFeatures\n",
    "from sklearn.metrics import mean_squared_error, r2_score, mean_absolute_error\n",
    "\n",
    "# load the data\n",
    "data = pd.read_csv('https://raw.githubusercontent.com/DATA3960/weeklydemo/main/Wk5_Gender_Height_Weight_Index.csv')\n",
    "\n",
    "# split the data into training and testing sets\n",
    "X_train, X_test, y_train, y_test = train_test_split(data['Height'], data['Weight'], test_size=0.2)\n",
    "\n",
    "# linear regression model\n",
    "linear_reg = LinearRegression()\n",
    "linear_reg.fit(X_train.values.reshape(-1, 1), y_train)\n",
    "\n",
    "# polynomial regression model\n",
    "poly_reg = PolynomialFeatures(degree=2)\n",
    "X_poly = poly_reg.fit_transform(X_train.values.reshape(-1, 1))\n",
    "poly_reg_2 = LinearRegression()\n",
    "poly_reg_2.fit(X_poly, y_train)\n",
    "\n",
    "# make predictions\n",
    "y_linear_pred = linear_reg.predict(X_test.values.reshape(-1, 1))\n",
    "y_poly_pred = poly_reg_2.predict(poly_reg.fit_transform(X_test.values.reshape(-1, 1)))\n",
    "\n",
    "# evaluate the performance of the models\n",
    "linear_mse = mean_squared_error(y_test, y_linear_pred)\n",
    "linear_r2 = r2_score(y_test, y_linear_pred)\n",
    "linear_mae = mean_absolute_error(y_test, y_linear_pred)\n",
    "\n",
    "poly_mse = mean_squared_error(y_test, y_poly_pred)\n",
    "poly_r2 = r2_score(y_test, y_poly_pred)\n",
    "poly_mae = mean_absolute_error(y_test, y_poly_pred)\n",
    "\n",
    "# compare the performance of the models\n",
    "print('Linear Regression Performance:')\n",
    "print('MSE:', linear_mse)\n",
    "print('R2:', linear_r2)\n",
    "print('MAE:', linear_mae)\n",
    "\n",
    "print('Polynomial Regression Performance:')\n",
    "print('MSE:', poly_mse)\n",
    "print('R2:', poly_r2)\n",
    "print('MAE:', poly_mae)\n"
   ]
  },
  {
   "cell_type": "markdown",
   "id": "976d9de4-e9fe-458f-ae3f-b4f90a069e7f",
   "metadata": {},
   "source": [
    "Based on the results of the performance evaluation, we can see that the polynomial regression model has a lower MSE and R2 score, and a lower MAE compared to the linear regression model. This suggests that the polynomial regression model has a better fit for the data and is more accurate in predicting the weight of a person based on their height.\n",
    "\n",
    "Therefore, we can choose the polynomial regression model for production, as it gives us the best results on the test data."
   ]
  },
  {
   "cell_type": "markdown",
   "id": "6571cb52-d3d9-4416-a3da-6b714444e9e1",
   "metadata": {},
   "source": [
    "## ML vs Regression?"
   ]
  },
  {
   "cell_type": "markdown",
   "id": "1ca371b6-a847-475b-8c0c-4286506c4d78",
   "metadata": {},
   "source": [
    "![MachineLearning](Wk5_ML.gif)"
   ]
  },
  {
   "cell_type": "markdown",
   "id": "79685096-d7f1-433a-b7ec-5b35f7f75e20",
   "metadata": {},
   "source": [
    "Machine learning (ML) and regression analysis are related but distinct concepts. \n",
    "\n",
    "**Regression analysis** is a statistical technique that involves finding the relationship between a dependent variable and one or more independent variables. The goal of regression analysis is to build a model that accurately predicts the value of the dependent variable based on the values of the independent variables.\n",
    "\n",
    "**Machine learning**, on the other hand, is a subfield of artificial intelligence that focuses on building algorithms and models that can learn patterns and relationships in data, and make predictions or decisions based on that learned knowledge. Machine learning algorithms can be used for regression problems, among other things. In the context of regression, ML algorithms use data to build models that can learn the relationship between the independent and dependent variables, and make predictions about the dependent variable based on new independent variable values.\n",
    "\n",
    "So, in a way, machine learning with regression can be considered an extension of regression analysis. While regression analysis focuses on finding the relationship between variables and making predictions based on that relationship, machine learning with regression focuses on finding the best possible model to make those predictions based on data."
   ]
  },
  {
   "cell_type": "markdown",
   "id": "94d84b64-f28a-4dd6-a369-c2e56eb2f34b",
   "metadata": {},
   "source": [
    "###  ML Regression Tree"
   ]
  },
  {
   "cell_type": "markdown",
   "id": "3c9bca86-1256-41ae-91cf-3fca8da857b0",
   "metadata": {},
   "source": [
    "Regression tree is a type of machine learning algorithm, specifically a decision tree algorithm used for regression problems. Regression trees are used to predict a continuous target variable, as opposed to classification trees, which are used for categorical target variables. In regression trees, the target variable is estimated by calculating the mean of the training samples that fall in a particular leaf of the tree."
   ]
  },
  {
   "cell_type": "code",
   "execution_count": 34,
   "id": "aef687f8-beab-4690-91ac-292d07784082",
   "metadata": {
    "jupyter": {
     "source_hidden": true
    }
   },
   "outputs": [
    {
     "data": {
      "image/png": "[encoded data removed]",
      "text/plain": [
       "<Figure size 432x288 with 1 Axes>"
      ]
     },
     "metadata": {
      "needs_background": "light"
     },
     "output_type": "display_data"
    }
   ],
   "source": [
    "import numpy as np\n",
    "import matplotlib.pyplot as plt\n",
    "from sklearn.tree import DecisionTreeRegressor\n",
    "\n",
    "# Generate sample data\n",
    "rng = np.random.default_rng()\n",
    "X = rng.random((100, 1))\n",
    "y = np.sin(4 * np.pi * X) + np.sin(8 * np.pi * X) + rng.normal(0, 0.1, (100, 1))\n",
    "\n",
    "# Fit regression decision tree\n",
    "regr = DecisionTreeRegressor(max_depth=4)\n",
    "regr.fit(X, y)\n",
    "\n",
    "# Plot the results\n",
    "X_test = np.arange(0, 1, 0.01).reshape(-1, 1)\n",
    "y_hat = regr.predict(X_test)\n",
    "plt.figure()\n",
    "plt.scatter(X, y, s=20, edgecolor=\"black\", c=\"darkorange\", label=\"data\")\n",
    "plt.plot(X_test, y_hat, color=\"cornflowerblue\", label=\"prediction\", linewidth=2)\n",
    "plt.xlabel(\"data\")\n",
    "plt.ylabel(\"target\")\n",
    "plt.title(\"Decision Tree Regression\")\n",
    "plt.legend()\n",
    "plt.show()"
   ]
  },
  {
   "cell_type": "markdown",
   "id": "d2350f6a-44e1-461e-966b-9425ce34f1ab",
   "metadata": {},
   "source": [
    "This code generates a different set of sample data and fits a decision tree regression model with a maximum depth of 4. The plot shows the generated data and the prediction made by the decision tree regression model."
   ]
  },
  {
   "cell_type": "markdown",
   "id": "13944f5c-afe4-463b-89b3-b789a1a7e1e8",
   "metadata": {},
   "source": [
    "#### Case Study 4 (Postions vs Salaries)"
   ]
  },
  {
   "cell_type": "code",
   "execution_count": 35,
   "id": "bea98ec1-875f-4a0b-b071-a85df2f8dd98",
   "metadata": {
    "jupyter": {
     "source_hidden": true
    },
    "tags": []
   },
   "outputs": [
    {
     "data": {
      "image/png": "[encoded data removed]",
      "text/plain": [
       "<Figure size 432x288 with 1 Axes>"
      ]
     },
     "metadata": {
      "needs_background": "light"
     },
     "output_type": "display_data"
    }
   ],
   "source": [
    "import numpy as np\n",
    "import pandas as pd\n",
    "import matplotlib.pyplot as plt\n",
    "from sklearn.tree import DecisionTreeRegressor\n",
    "\n",
    "# Load sample data\n",
    "data = pd.read_csv(\"https://raw.githubusercontent.com/Dong2Yo/Dataset/main/Wk5_Position_Salaries.csv\")\n",
    "X = data.iloc[:, 1:-1].values\n",
    "y = data.iloc[:, -1].values\n",
    "\n",
    "# Fit regression decision tree\n",
    "regr = DecisionTreeRegressor(random_state=0)\n",
    "regr.fit(X, y)\n",
    "\n",
    "# Plot the results\n",
    "X_test = np.arange(min(X), max(X), 0.01).reshape(-1, 1)\n",
    "y_hat = regr.predict(X_test)\n",
    "plt.figure()\n",
    "plt.scatter(X, y, s=20, edgecolor=\"black\", c=\"darkorange\", label=\"data\")\n",
    "plt.plot(X_test, y_hat, color=\"cornflowerblue\", label=\"prediction\", linewidth=2)\n",
    "plt.xlabel(\"Position Level\")\n",
    "plt.ylabel(\"Salary\")\n",
    "plt.title(\"Decision Tree Regression\")\n",
    "plt.legend()\n",
    "plt.show()\n"
   ]
  },
  {
   "cell_type": "markdown",
   "id": "7acd898c-34c1-48b2-8047-592201bbda18",
   "metadata": {},
   "source": [
    "This code loads a sample dataset containing position level and corresponding salary information. The dataset is then used to fit a regression decision tree and plot the results, showing the relationship between position level and salary, as well as the prediction made by the decision tree regression model."
   ]
  },
  {
   "cell_type": "markdown",
   "id": "44c384cf-e60a-4326-aef7-a79f3fae3630",
   "metadata": {},
   "source": [
    "#### Case Study 5 (Wine Quality)"
   ]
  },
  {
   "cell_type": "code",
   "execution_count": 36,
   "id": "89b91507-ba1f-40bc-bc42-61e8653ef47f",
   "metadata": {
    "jupyter": {
     "source_hidden": true
    }
   },
   "outputs": [
    {
     "name": "stdout",
     "output_type": "stream",
     "text": [
      "Mean Squared Error: 0.43350969496749786\n"
     ]
    }
   ],
   "source": [
    "import numpy as np\n",
    "import pandas as pd\n",
    "from sklearn import datasets\n",
    "from sklearn.tree import DecisionTreeRegressor\n",
    "from sklearn.model_selection import train_test_split\n",
    "from sklearn.metrics import mean_squared_error\n",
    "\n",
    "# Load the wine quality dataset\n",
    "wine = pd.read_csv(\"https://archive.ics.uci.edu/ml/machine-learning-databases/wine-quality/winequality-red.csv\", sep=\";\")\n",
    "\n",
    "# Split the data into training and testing sets\n",
    "X = wine.drop(\"quality\", axis=1)\n",
    "y = wine[\"quality\"]\n",
    "X_train, X_test, y_train, y_test = train_test_split(X, y, test_size=0.2, random_state=42)\n",
    "\n",
    "# Train the regression tree\n",
    "regr = DecisionTreeRegressor(max_depth=5)\n",
    "regr.fit(X_train, y_train)\n",
    "\n",
    "# Predict the wine quality using the trained regression tree\n",
    "y_pred = regr.predict(X_test)\n",
    "\n",
    "# Evaluate the performance of the model\n",
    "mse = mean_squared_error(y_test, y_pred)\n",
    "print(\"Mean Squared Error:\", mse)\n"
   ]
  },
  {
   "cell_type": "markdown",
   "id": "87e37d68-4742-45ec-bd8d-be4bd145c53e",
   "metadata": {},
   "source": [
    "In this example, we first load the wine quality dataset from UCI's Machine Learning Repository and split it into training and testing sets. Next, we train a regression tree with a maximum depth of 5 on the training set and make predictions on the testing set. Finally, we evaluate the performance of the model by computing the mean squared error between the true and predicted values."
   ]
  },
  {
   "cell_type": "markdown",
   "id": "8a952ee4-d69c-467e-bd70-5100900b99f2",
   "metadata": {},
   "source": [
    "### Case Study 6 (50 Startups)"
   ]
  },
  {
   "cell_type": "markdown",
   "id": "bcb442bb-9b49-40d3-8d6d-e9ae83509557",
   "metadata": {},
   "source": [
    "### Random Forest"
   ]
  },
  {
   "cell_type": "code",
   "execution_count": 37,
   "id": "2ec0336d-a274-46ba-a113-e41bfe22b9be",
   "metadata": {
    "jupyter": {
     "source_hidden": true
    },
    "tags": []
   },
   "outputs": [
    {
     "name": "stdout",
     "output_type": "stream",
     "text": [
      "Mean Absolute Error: 5193.778120000019\n"
     ]
    },
    {
     "data": {
      "image/png": "[encoded data removed]",
      "text/plain": [
       "<Figure size 432x288 with 1 Axes>"
      ]
     },
     "metadata": {
      "needs_background": "light"
     },
     "output_type": "display_data"
    }
   ],
   "source": [
    "import numpy as np\n",
    "import pandas as pd\n",
    "from sklearn.ensemble import RandomForestRegressor\n",
    "from sklearn.model_selection import train_test_split\n",
    "\n",
    "# Load sample data\n",
    "data = pd.read_csv(\"https://raw.githubusercontent.com/Dong2Yo/Dataset/main/Wk5_50_Startups.csv\")\n",
    "X = data.iloc[:, :-1].values\n",
    "y = data.iloc[:, -1].values\n",
    "\n",
    "# Split data into training and test sets\n",
    "X_train, X_test, y_train, y_test = train_test_split(X, y, test_size=0.2, random_state=0)\n",
    "\n",
    "# Train a random forest regression model\n",
    "reg = RandomForestRegressor(n_estimators=100, random_state=0)\n",
    "reg.fit(X_train, y_train)\n",
    "\n",
    "# Evaluate the model on the test set\n",
    "y_hat = reg.predict(X_test)\n",
    "mae = np.mean(abs(y_hat - y_test))\n",
    "print(\"Mean Absolute Error:\", mae)\n",
    "\n",
    "# Plot the results\n",
    "plt.figure()\n",
    "plt.scatter(y_test, y_hat, s=20, edgecolor=\"black\", c=\"darkorange\", label=\"data\")\n",
    "plt.plot([y_test.min(), y_test.max()], [y_test.min(), y_test.max()], color=\"cornflowerblue\", label=\"prediction\", linewidth=2)\n",
    "plt.xlabel(\"True Values\")\n",
    "plt.ylabel(\"Predictions\")\n",
    "plt.title(\"Random Forest Regression Results\")\n",
    "plt.legend()\n",
    "plt.show()\n"
   ]
  },
  {
   "cell_type": "markdown",
   "id": "f6c22803-1adf-4aa6-bc92-d190b6357469",
   "metadata": {},
   "source": [
    "This code loads a sample dataset and splits it into a training set and a test set. A random forest regression model is then trained on the training set, and its performance is evaluated on the test set by computing the mean absolute error (MAE) between the predicted and true values. Finally, the results are plotted, showing how well the random forest regression model is able to predict the target values."
   ]
  },
  {
   "cell_type": "markdown",
   "id": "fb023ec0-b9f1-40da-b5c5-fcdf8feefbb7",
   "metadata": {},
   "source": [
    "### KNN Regression"
   ]
  },
  {
   "cell_type": "code",
   "execution_count": 38,
   "id": "8d0b0003-fdc7-4c66-b4b6-00c595158f92",
   "metadata": {
    "jupyter": {
     "source_hidden": true
    },
    "tags": []
   },
   "outputs": [
    {
     "name": "stdout",
     "output_type": "stream",
     "text": [
      "Mean Absolute Error: 10447.029400000007\n"
     ]
    },
    {
     "data": {
      "image/png": "[encoded data removed]",
      "text/plain": [
       "<Figure size 432x288 with 1 Axes>"
      ]
     },
     "metadata": {
      "needs_background": "light"
     },
     "output_type": "display_data"
    }
   ],
   "source": [
    "import numpy as np\n",
    "import pandas as pd\n",
    "from sklearn.neighbors import KNeighborsRegressor\n",
    "from sklearn.model_selection import train_test_split\n",
    "\n",
    "# Load sample data\n",
    "data = pd.read_csv(\"https://raw.githubusercontent.com/Dong2Yo/Dataset/main/Wk5_50_Startups.csv\")\n",
    "X = data.iloc[:, :-1].values\n",
    "y = data.iloc[:, -1].values\n",
    "\n",
    "# Split data into training and test sets\n",
    "X_train, X_test, y_train, y_test = train_test_split(X, y, test_size=0.2, random_state=0)\n",
    "\n",
    "# Train a KNN regression model\n",
    "reg = KNeighborsRegressor(n_neighbors=5)\n",
    "reg.fit(X_train, y_train)\n",
    "\n",
    "# Evaluate the model on the test set\n",
    "y_hat = reg.predict(X_test)\n",
    "mae = np.mean(abs(y_hat - y_test))\n",
    "print(\"Mean Absolute Error:\", mae)\n",
    "\n",
    "# Plot the results\n",
    "plt.figure()\n",
    "plt.scatter(y_test, y_hat, s=20, edgecolor=\"black\", c=\"darkorange\", label=\"data\")\n",
    "plt.plot([y_test.min(), y_test.max()], [y_test.min(), y_test.max()], color=\"cornflowerblue\", label=\"prediction\", linewidth=2)\n",
    "plt.xlabel(\"True Values\")\n",
    "plt.ylabel(\"Predictions\")\n",
    "plt.title(\"KNN Regression Results\")\n",
    "plt.legend()\n",
    "plt.show()\n"
   ]
  },
  {
   "cell_type": "markdown",
   "id": "33a1c083-6fe1-4628-ab16-da85fa0a5622",
   "metadata": {},
   "source": [
    "This code loads a sample dataset and splits it into a training set and a test set. A KNN regression model is then trained on the training set, and its performance is evaluated on the test set by computing the mean absolute error (MAE) between the predicted and true values. Finally, the results are plotted, showing how well the KNN regression model is able to predict the target values."
   ]
  },
  {
   "cell_type": "markdown",
   "id": "4082a4f2-c6f3-4d42-ad3c-e428151e55f1",
   "metadata": {},
   "source": [
    "### Support Vector Regression (SVR)"
   ]
  },
  {
   "cell_type": "code",
   "execution_count": 42,
   "id": "33aab8bb-903a-4090-8cd3-a61cc8859e22",
   "metadata": {
    "jupyter": {
     "source_hidden": true
    },
    "tags": []
   },
   "outputs": [
    {
     "name": "stdout",
     "output_type": "stream",
     "text": [
      "Mean Absolute Error: 11583.344536730394\n"
     ]
    },
    {
     "data": {
      "image/png": "[encoded data removed]",
      "text/plain": [
       "<Figure size 432x288 with 1 Axes>"
      ]
     },
     "metadata": {
      "needs_background": "light"
     },
     "output_type": "display_data"
    }
   ],
   "source": [
    "import numpy as np\n",
    "import pandas as pd\n",
    "from sklearn.svm import SVR\n",
    "from sklearn.model_selection import train_test_split\n",
    "\n",
    "# Load sample data\n",
    "data = pd.read_csv(\"https://raw.githubusercontent.com/Dong2Yo/Dataset/main/Wk5_50_Startups.csv\")\n",
    "X = data.iloc[:, :-1].values\n",
    "y = data.iloc[:, -1].values\n",
    "\n",
    "# Split data into training and test sets\n",
    "X_train, X_test, y_train, y_test = train_test_split(X, y, test_size=0.2, random_state=0)\n",
    "\n",
    "# Train an SVR regression model\n",
    "reg = SVR(kernel='linear')\n",
    "reg.fit(X_train, y_train)\n",
    "\n",
    "# Evaluate the model on the test set\n",
    "y_hat = reg.predict(X_test)\n",
    "mae = np.mean(abs(y_hat - y_test))\n",
    "print(\"Mean Absolute Error:\", mae)\n",
    "\n",
    "# Plot the results\n",
    "plt.figure()\n",
    "plt.scatter(y_test, y_hat, s=20, edgecolor=\"black\", c=\"darkorange\", label=\"data\")\n",
    "plt.plot([y_test.min(), y_test.max()], [y_test.min(), y_test.max()], color=\"cornflowerblue\", label=\"prediction\", linewidth=2)\n",
    "plt.xlabel(\"True Values\")\n",
    "plt.ylabel(\"Predictions\")\n",
    "plt.title(\"SVR Regression Results\")\n",
    "plt.legend()\n",
    "plt.show()"
   ]
  },
  {
   "cell_type": "markdown",
   "id": "8f95d559-b85f-4f59-9d37-6dd91ccce3c1",
   "metadata": {},
   "source": [
    "This code loads a sample dataset and splits it into a training set and a test set. An SVR regression model is then trained on the training set, and its performance is evaluated on the test set by computing the mean absolute error (MAE) between the predicted and true values. Finally, the results are plotted, showing how well the SVR regression model is able to predict the target values."
   ]
  },
  {
   "cell_type": "markdown",
   "id": "ef643360-fbcc-497f-a14b-dc8d28d51943",
   "metadata": {},
   "source": [
    "### Neural Network Regression"
   ]
  },
  {
   "cell_type": "code",
   "execution_count": 48,
   "id": "7b682061-7683-41d0-9473-9a19334c33bf",
   "metadata": {
    "collapsed": true,
    "jupyter": {
     "outputs_hidden": true,
     "source_hidden": true
    },
    "tags": []
   },
   "outputs": [
    {
     "name": "stdout",
     "output_type": "stream",
     "text": [
      "Epoch 1/100\n",
      "1/1 [==============================] - 3s 3s/step - loss: 10009825280.0000 - val_loss: 9648927744.0000\n",
      "Epoch 2/100\n",
      "1/1 [==============================] - 0s 468ms/step - loss: 8950541312.0000 - val_loss: 8560425984.0000\n",
      "Epoch 3/100\n",
      "1/1 [==============================] - 0s 314ms/step - loss: 7977513984.0000 - val_loss: 7570547712.0000\n",
      "Epoch 4/100\n",
      "1/1 [==============================] - 1s 526ms/step - loss: 7086792704.0000 - val_loss: 6686302208.0000\n",
      "Epoch 5/100\n",
      "1/1 [==============================] - 0s 457ms/step - loss: 6272611328.0000 - val_loss: 5910310912.0000\n",
      "Epoch 6/100\n",
      "1/1 [==============================] - 0s 332ms/step - loss: 5536835584.0000 - val_loss: 5243478528.0000\n",
      "Epoch 7/100\n",
      "1/1 [==============================] - 0s 371ms/step - loss: 4877200384.0000 - val_loss: 4678671872.0000\n",
      "Epoch 8/100\n",
      "1/1 [==============================] - 0s 366ms/step - loss: 4283296768.0000 - val_loss: 4192538112.0000\n",
      "Epoch 9/100\n",
      "1/1 [==============================] - 0s 467ms/step - loss: 3751421696.0000 - val_loss: 3788857856.0000\n",
      "Epoch 10/100\n",
      "1/1 [==============================] - 0s 397ms/step - loss: 3282161408.0000 - val_loss: 3468522496.0000\n",
      "Epoch 11/100\n",
      "1/1 [==============================] - 1s 606ms/step - loss: 2871832832.0000 - val_loss: 3221965056.0000\n",
      "Epoch 12/100\n",
      "1/1 [==============================] - 1s 611ms/step - loss: 2515152384.0000 - val_loss: 3036531200.0000\n",
      "Epoch 13/100\n",
      "1/1 [==============================] - 0s 325ms/step - loss: 2206186240.0000 - val_loss: 2908663808.0000\n",
      "Epoch 14/100\n",
      "1/1 [==============================] - 0s 431ms/step - loss: 1946198784.0000 - val_loss: 2833506816.0000\n",
      "Epoch 15/100\n",
      "1/1 [==============================] - 1s 563ms/step - loss: 1727316352.0000 - val_loss: 2806537216.0000\n",
      "Epoch 16/100\n",
      "1/1 [==============================] - 1s 544ms/step - loss: 1548290304.0000 - val_loss: 2828236288.0000\n",
      "Epoch 17/100\n",
      "1/1 [==============================] - 1s 527ms/step - loss: 1408908032.0000 - val_loss: 2888839680.0000\n",
      "Epoch 18/100\n",
      "1/1 [==============================] - 0s 302ms/step - loss: 1307490816.0000 - val_loss: 2978097664.0000\n",
      "Epoch 19/100\n",
      "1/1 [==============================] - 1s 576ms/step - loss: 1240239232.0000 - val_loss: 3092432384.0000\n",
      "Epoch 20/100\n",
      "1/1 [==============================] - 0s 455ms/step - loss: 1201269888.0000 - val_loss: 3218101504.0000\n",
      "Epoch 21/100\n",
      "1/1 [==============================] - 0s 378ms/step - loss: 1184074112.0000 - val_loss: 3336971008.0000\n",
      "Epoch 22/100\n",
      "1/1 [==============================] - 0s 486ms/step - loss: 1180785920.0000 - val_loss: 3437414400.0000\n",
      "Epoch 23/100\n",
      "1/1 [==============================] - 0s 459ms/step - loss: 1185896192.0000 - val_loss: 3509976064.0000\n",
      "Epoch 24/100\n",
      "1/1 [==============================] - 0s 311ms/step - loss: 1191620992.0000 - val_loss: 3547892736.0000\n",
      "Epoch 25/100\n",
      "1/1 [==============================] - 1s 524ms/step - loss: 1193374592.0000 - val_loss: 3547030016.0000\n",
      "Epoch 26/100\n",
      "1/1 [==============================] - 1s 641ms/step - loss: 1185720448.0000 - val_loss: 3507979264.0000\n",
      "Epoch 27/100\n",
      "1/1 [==============================] - 0s 476ms/step - loss: 1167178368.0000 - val_loss: 3433687552.0000\n",
      "Epoch 28/100\n",
      "1/1 [==============================] - 0s 483ms/step - loss: 1137243008.0000 - val_loss: 3329488896.0000\n",
      "Epoch 29/100\n",
      "1/1 [==============================] - 0s 394ms/step - loss: 1097160960.0000 - val_loss: 3203563264.0000\n",
      "Epoch 30/100\n",
      "1/1 [==============================] - 0s 484ms/step - loss: 1050634432.0000 - val_loss: 3067987456.0000\n",
      "Epoch 31/100\n",
      "1/1 [==============================] - 0s 478ms/step - loss: 1000105984.0000 - val_loss: 2920578304.0000\n",
      "Epoch 32/100\n",
      "1/1 [==============================] - 0s 445ms/step - loss: 947550592.0000 - val_loss: 2770457088.0000\n",
      "Epoch 33/100\n",
      "1/1 [==============================] - 0s 465ms/step - loss: 896499648.0000 - val_loss: 2624771328.0000\n",
      "Epoch 34/100\n",
      "1/1 [==============================] - 0s 373ms/step - loss: 847405888.0000 - val_loss: 2486499328.0000\n",
      "Epoch 35/100\n",
      "1/1 [==============================] - 1s 537ms/step - loss: 801101056.0000 - val_loss: 2352226816.0000\n",
      "Epoch 36/100\n",
      "1/1 [==============================] - 1s 536ms/step - loss: 757643904.0000 - val_loss: 2224293120.0000\n",
      "Epoch 37/100\n",
      "1/1 [==============================] - 1s 751ms/step - loss: 717714048.0000 - val_loss: 2104120320.0000\n",
      "Epoch 38/100\n",
      "1/1 [==============================] - 0s 391ms/step - loss: 681699136.0000 - val_loss: 1992698112.0000\n",
      "Epoch 39/100\n",
      "1/1 [==============================] - 1s 535ms/step - loss: 649499392.0000 - val_loss: 1890303488.0000\n",
      "Epoch 40/100\n",
      "1/1 [==============================] - 0s 448ms/step - loss: 620573824.0000 - val_loss: 1797285120.0000\n",
      "Epoch 41/100\n",
      "1/1 [==============================] - 0s 464ms/step - loss: 594549696.0000 - val_loss: 1714451200.0000\n",
      "Epoch 42/100\n",
      "1/1 [==============================] - 1s 501ms/step - loss: 570805952.0000 - val_loss: 1641495680.0000\n",
      "Epoch 43/100\n",
      "1/1 [==============================] - 1s 602ms/step - loss: 548906496.0000 - val_loss: 1576034688.0000\n",
      "Epoch 44/100\n",
      "1/1 [==============================] - 1s 567ms/step - loss: 528298848.0000 - val_loss: 1517750272.0000\n",
      "Epoch 45/100\n",
      "1/1 [==============================] - 0s 448ms/step - loss: 508720160.0000 - val_loss: 1465913216.0000\n",
      "Epoch 46/100\n",
      "1/1 [==============================] - 1s 512ms/step - loss: 489537856.0000 - val_loss: 1419478272.0000\n",
      "Epoch 47/100\n",
      "1/1 [==============================] - 1s 597ms/step - loss: 470537088.0000 - val_loss: 1378116096.0000\n",
      "Epoch 48/100\n",
      "1/1 [==============================] - 1s 665ms/step - loss: 451450400.0000 - val_loss: 1341178112.0000\n",
      "Epoch 49/100\n",
      "1/1 [==============================] - 1s 598ms/step - loss: 432369152.0000 - val_loss: 1308156416.0000\n",
      "Epoch 50/100\n",
      "1/1 [==============================] - 1s 552ms/step - loss: 413450720.0000 - val_loss: 1278551808.0000\n",
      "Epoch 51/100\n",
      "1/1 [==============================] - 1s 502ms/step - loss: 394790720.0000 - val_loss: 1251956224.0000\n",
      "Epoch 52/100\n",
      "1/1 [==============================] - 0s 377ms/step - loss: 376584448.0000 - val_loss: 1228028416.0000\n",
      "Epoch 53/100\n",
      "1/1 [==============================] - 0s 324ms/step - loss: 359158304.0000 - val_loss: 1206685056.0000\n",
      "Epoch 54/100\n",
      "1/1 [==============================] - 1s 528ms/step - loss: 343041472.0000 - val_loss: 1187570560.0000\n",
      "Epoch 55/100\n",
      "1/1 [==============================] - 1s 523ms/step - loss: 328524160.0000 - val_loss: 1170660608.0000\n",
      "Epoch 56/100\n",
      "1/1 [==============================] - 1s 546ms/step - loss: 316037952.0000 - val_loss: 1154861696.0000\n",
      "Epoch 57/100\n",
      "1/1 [==============================] - 0s 440ms/step - loss: 304978656.0000 - val_loss: 1139547648.0000\n",
      "Epoch 58/100\n",
      "1/1 [==============================] - 0s 486ms/step - loss: 295519680.0000 - val_loss: 1124368512.0000\n",
      "Epoch 59/100\n",
      "1/1 [==============================] - 1s 503ms/step - loss: 287259648.0000 - val_loss: 1109645312.0000\n",
      "Epoch 60/100\n",
      "1/1 [==============================] - 1s 524ms/step - loss: 279905216.0000 - val_loss: 1095241600.0000\n",
      "Epoch 61/100\n",
      "1/1 [==============================] - 1s 592ms/step - loss: 273254656.0000 - val_loss: 1080648576.0000\n",
      "Epoch 62/100\n",
      "1/1 [==============================] - 0s 448ms/step - loss: 267119056.0000 - val_loss: 1065906176.0000\n",
      "Epoch 63/100\n",
      "1/1 [==============================] - 0s 335ms/step - loss: 261206816.0000 - val_loss: 1051955520.0000\n",
      "Epoch 64/100\n",
      "1/1 [==============================] - 1s 532ms/step - loss: 255357728.0000 - val_loss: 1037950336.0000\n",
      "Epoch 65/100\n",
      "1/1 [==============================] - 1s 522ms/step - loss: 249485200.0000 - val_loss: 1023981440.0000\n",
      "Epoch 66/100\n",
      "1/1 [==============================] - 0s 366ms/step - loss: 243639808.0000 - val_loss: 1010406272.0000\n",
      "Epoch 67/100\n",
      "1/1 [==============================] - 1s 530ms/step - loss: 237926096.0000 - val_loss: 997360960.0000\n",
      "Epoch 68/100\n",
      "1/1 [==============================] - 0s 342ms/step - loss: 232374624.0000 - val_loss: 984997632.0000\n",
      "Epoch 69/100\n",
      "1/1 [==============================] - 1s 659ms/step - loss: 227164640.0000 - val_loss: 973276800.0000\n",
      "Epoch 70/100\n",
      "1/1 [==============================] - 1s 614ms/step - loss: 222438576.0000 - val_loss: 963231680.0000\n",
      "Epoch 71/100\n",
      "1/1 [==============================] - 0s 237ms/step - loss: 218192720.0000 - val_loss: 953923712.0000\n",
      "Epoch 72/100\n",
      "1/1 [==============================] - 1s 573ms/step - loss: 214467360.0000 - val_loss: 946373632.0000\n",
      "Epoch 73/100\n",
      "1/1 [==============================] - 0s 451ms/step - loss: 211201184.0000 - val_loss: 939365504.0000\n",
      "Epoch 74/100\n",
      "1/1 [==============================] - 0s 395ms/step - loss: 208313056.0000 - val_loss: 932702464.0000\n",
      "Epoch 75/100\n",
      "1/1 [==============================] - 1s 515ms/step - loss: 205743584.0000 - val_loss: 926400128.0000\n",
      "Epoch 76/100\n",
      "1/1 [==============================] - 1s 839ms/step - loss: 203387888.0000 - val_loss: 920364608.0000\n",
      "Epoch 77/100\n",
      "1/1 [==============================] - 0s 406ms/step - loss: 201162528.0000 - val_loss: 914460288.0000\n",
      "Epoch 78/100\n",
      "1/1 [==============================] - 1s 506ms/step - loss: 198987744.0000 - val_loss: 908698816.0000\n",
      "Epoch 79/100\n",
      "1/1 [==============================] - 0s 457ms/step - loss: 196820384.0000 - val_loss: 903021440.0000\n",
      "Epoch 80/100\n",
      "1/1 [==============================] - 1s 564ms/step - loss: 194646112.0000 - val_loss: 897402432.0000\n",
      "Epoch 81/100\n",
      "1/1 [==============================] - 0s 422ms/step - loss: 192459392.0000 - val_loss: 891757312.0000\n",
      "Epoch 82/100\n",
      "1/1 [==============================] - 1s 564ms/step - loss: 190308160.0000 - val_loss: 886074496.0000\n",
      "Epoch 83/100\n",
      "1/1 [==============================] - 1s 554ms/step - loss: 188209056.0000 - val_loss: 880324096.0000\n",
      "Epoch 84/100\n",
      "1/1 [==============================] - 1s 560ms/step - loss: 186183744.0000 - val_loss: 874505472.0000\n",
      "Epoch 85/100\n",
      "1/1 [==============================] - 1s 504ms/step - loss: 184243104.0000 - val_loss: 868285120.0000\n",
      "Epoch 86/100\n",
      "1/1 [==============================] - 1s 537ms/step - loss: 182392608.0000 - val_loss: 861796352.0000\n",
      "Epoch 87/100\n",
      "1/1 [==============================] - 0s 401ms/step - loss: 180626448.0000 - val_loss: 855270400.0000\n",
      "Epoch 88/100\n",
      "1/1 [==============================] - 0s 471ms/step - loss: 178898208.0000 - val_loss: 848666560.0000\n",
      "Epoch 89/100\n",
      "1/1 [==============================] - 0s 330ms/step - loss: 177193984.0000 - val_loss: 841993600.0000\n",
      "Epoch 90/100\n",
      "1/1 [==============================] - 0s 376ms/step - loss: 175527872.0000 - val_loss: 835269376.0000\n",
      "Epoch 91/100\n",
      "1/1 [==============================] - 1s 563ms/step - loss: 173884480.0000 - val_loss: 828404480.0000\n",
      "Epoch 92/100\n",
      "1/1 [==============================] - 0s 237ms/step - loss: 172246208.0000 - val_loss: 821489152.0000\n",
      "Epoch 93/100\n",
      "1/1 [==============================] - 0s 493ms/step - loss: 170701728.0000 - val_loss: 814656896.0000\n",
      "Epoch 94/100\n",
      "1/1 [==============================] - 0s 485ms/step - loss: 169289392.0000 - val_loss: 807923456.0000\n",
      "Epoch 95/100\n",
      "1/1 [==============================] - 0s 490ms/step - loss: 167892608.0000 - val_loss: 801303808.0000\n",
      "Epoch 96/100\n",
      "1/1 [==============================] - 1s 609ms/step - loss: 166544720.0000 - val_loss: 794822336.0000\n",
      "Epoch 97/100\n",
      "1/1 [==============================] - 0s 316ms/step - loss: 165246208.0000 - val_loss: 788533888.0000\n",
      "Epoch 98/100\n",
      "1/1 [==============================] - 1s 799ms/step - loss: 164044576.0000 - val_loss: 782839296.0000\n",
      "Epoch 99/100\n",
      "1/1 [==============================] - 0s 407ms/step - loss: 162888528.0000 - val_loss: 777501248.0000\n",
      "Epoch 100/100\n",
      "1/1 [==============================] - 1s 835ms/step - loss: 161775712.0000 - val_loss: 772272448.0000\n",
      "1/1 [==============================] - 0s 327ms/step\n",
      "Mean Absolute Error: 39199.27044375\n"
     ]
    },
    {
     "data": {
      "image/png": "[encoded data removed]",
      "text/plain": [
       "<Figure size 432x288 with 1 Axes>"
      ]
     },
     "metadata": {
      "needs_background": "light"
     },
     "output_type": "display_data"
    }
   ],
   "source": [
    "import numpy as np\n",
    "import pandas as pd\n",
    "import keras\n",
    "from sklearn.model_selection import train_test_split\n",
    "\n",
    "# Load sample data\n",
    "data = pd.read_csv(\"https://raw.githubusercontent.com/Dong2Yo/Dataset/main/Wk5_50_Startups.csv\")\n",
    "X = data.iloc[:, :-1].values\n",
    "y = data.iloc[:, -1].values\n",
    "\n",
    "# Split data into training and test sets\n",
    "X_train, X_test, y_train, y_test = train_test_split(X, y, test_size=0.2, random_state=0)\n",
    "\n",
    "# Build the neural network model\n",
    "model = keras.Sequential([\n",
    "    keras.layers.Dense(64, activation='relu', input_shape=(X_train.shape[1],)),\n",
    "    keras.layers.Dense(64, activation='relu'),\n",
    "    keras.layers.Dense(1)\n",
    "])\n",
    "\n",
    "model.compile(optimizer='adam', loss='mean_squared_error')\n",
    "\n",
    "# Train the model\n",
    "history = model.fit(X_train, y_train, epochs=100, batch_size=32, validation_split=0.2)\n",
    "\n",
    "# Evaluate the model on the test set\n",
    "y_hat = model.predict(X_test)\n",
    "mae = np.mean(abs(y_hat - y_test))\n",
    "print(\"Mean Absolute Error:\", mae)\n",
    "\n",
    "# Plot the results\n",
    "plt.figure()\n",
    "plt.scatter(y_test, y_hat, s=20, edgecolor=\"black\", c=\"darkorange\", label=\"data\")\n",
    "plt.plot([y_test.min(), y_test.max()], [y_test.min(), y_test.max()], color=\"cornflowerblue\", label=\"prediction\", linewidth=2)\n",
    "plt.xlabel(\"True Values\")\n",
    "plt.ylabel(\"Predictions\")\n",
    "plt.title(\"Neural Network Regression Results\")\n",
    "plt.legend()\n",
    "plt.show()\n"
   ]
  },
  {
   "cell_type": "markdown",
   "id": "8f32031b-5d6e-4217-adaf-6670dfcf0d11",
   "metadata": {},
   "source": [
    "This code loads a sample dataset and splits it into a training set and a test set. A neural network regression model is then built using the Keras library, with an input layer, two hidden layers, and an output layer. The model is compiled with the adam optimizer and mean squared error loss. The model is trained on the training set, and its performance is evaluated on the test set by computing the mean absolute error (MAE) between the predicted and true values. Finally, the results are plotted, showing how well the neural network regression model is able to predict the target values."
   ]
  },
  {
   "cell_type": "markdown",
   "id": "9e417a8e-b9e4-439d-aa88-c5a9148c4f50",
   "metadata": {},
   "source": [
    "### Bayesian Ridge Regression"
   ]
  },
  {
   "cell_type": "code",
   "execution_count": 47,
   "id": "cfed6232-ddb8-4dec-9998-571cb97cfcdf",
   "metadata": {
    "jupyter": {
     "source_hidden": true
    },
    "tags": []
   },
   "outputs": [
    {
     "name": "stdout",
     "output_type": "stream",
     "text": [
      "Mean Absolute Error: 7405.50501108796\n"
     ]
    },
    {
     "data": {
      "image/png": "[encoded data removed]",
      "text/plain": [
       "<Figure size 432x288 with 1 Axes>"
      ]
     },
     "metadata": {
      "needs_background": "light"
     },
     "output_type": "display_data"
    }
   ],
   "source": [
    "import numpy as np\n",
    "import pandas as pd\n",
    "import matplotlib.pyplot as plt\n",
    "from sklearn.model_selection import train_test_split\n",
    "from sklearn.linear_model import BayesianRidge\n",
    "\n",
    "# Load sample data\n",
    "data = pd.read_csv(\"https://raw.githubusercontent.com/Dong2Yo/Dataset/main/Wk5_50_Startups.csv\")\n",
    "X = data.iloc[:, :-1].values\n",
    "y = data.iloc[:, -1].values\n",
    "\n",
    "# Split data into training and test sets\n",
    "X_train, X_test, y_train, y_test = train_test_split(X, y, test_size=0.2, random_state=0)\n",
    "\n",
    "# Train the Bayesian Ridge Regression model\n",
    "regressor = BayesianRidge()\n",
    "regressor.fit(X_train, y_train)\n",
    "\n",
    "# Evaluate the model on the test set\n",
    "y_hat = regressor.predict(X_test)\n",
    "mae = np.mean(abs(y_hat - y_test))\n",
    "print(\"Mean Absolute Error:\", mae)\n",
    "\n",
    "# Plot the results\n",
    "plt.figure()\n",
    "plt.scatter(y_test, y_hat, s=20, edgecolor=\"black\", c=\"darkorange\", label=\"data\")\n",
    "plt.plot([y_test.min(), y_test.max()], [y_test.min(), y_test.max()], color=\"cornflowerblue\", label=\"prediction\", linewidth=2)\n",
    "plt.xlabel(\"True Values\")\n",
    "plt.ylabel(\"Predictions\")\n",
    "plt.title(\"Bayesian Ridge Regression Results\")\n",
    "plt.legend()\n",
    "plt.show()\n"
   ]
  },
  {
   "cell_type": "markdown",
   "id": "4270fa8a-a63f-4ac2-b5c3-22c9c72c0626",
   "metadata": {},
   "source": [
    "This code loads a sample dataset and splits it into a training set and a test set. The Bayesian Ridge Regression model is then trained on the training set using the fit function of the BayesianRidge class from the scikit-learn library."
   ]
  }
 ],
 "metadata": {
  "kernelspec": {
   "display_name": "Python 3 (ipykernel)",
   "language": "python",
   "name": "python3"
  },
  "language_info": {
   "codemirror_mode": {
    "name": "ipython",
    "version": 3
   },
   "file_extension": ".py",
   "mimetype": "text/x-python",
   "name": "python",
   "nbconvert_exporter": "python",
   "pygments_lexer": "ipython3",
   "version": "3.8.11"
  }
 },
 "nbformat": 4,
 "nbformat_minor": 5
}
